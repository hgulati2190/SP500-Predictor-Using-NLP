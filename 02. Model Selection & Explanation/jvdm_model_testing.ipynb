{
 "cells": [
  {
   "cell_type": "markdown",
   "id": "53e1193a-2442-418f-bf9e-bbed48d407b4",
   "metadata": {},
   "source": [
    "# Model Testing\n",
    "\n",
    "Loading the model and tokenizer from saved state and processing some current headlines"
   ]
  },
  {
   "cell_type": "code",
   "execution_count": 1,
   "id": "8b5d8a67-958b-4999-b91f-bd801a5523de",
   "metadata": {},
   "outputs": [],
   "source": [
    "from transformers import AutoModelForSequenceClassification, AutoTokenizer"
   ]
  },
  {
   "cell_type": "markdown",
   "id": "089c2273-e37b-4b27-a919-7cd7683418a5",
   "metadata": {},
   "source": [
    "### Loading the model and tokenizer"
   ]
  },
  {
   "cell_type": "code",
   "execution_count": null,
   "id": "e2d47cc8-23cd-4c6e-9621-8ffcabd25f15",
   "metadata": {},
   "outputs": [],
   "source": [
    "model = AutoModelForSequenceClassification.from_pretrained(\"jvdm_sp500_model\")\n",
    "tokenizer = AutoTokenizer.from_pretrained(\"jvdm_sp500_model\")"
   ]
  },
  {
   "cell_type": "markdown",
   "id": "72d94075-07c3-495f-85b8-1db850c2572f",
   "metadata": {},
   "source": [
    "### Preparing the input data"
   ]
  },
  {
   "cell_type": "code",
   "execution_count": 3,
   "id": "b563c428-2663-44d2-b776-35e12694a34a",
   "metadata": {},
   "outputs": [
    {
     "name": "stderr",
     "output_type": "stream",
     "text": [
      "[nltk_data] Downloading package stopwords to\n",
      "[nltk_data]     /Users/jeroen/nltk_data...\n",
      "[nltk_data]   Package stopwords is already up-to-date!\n"
     ]
    }
   ],
   "source": [
    "import re\n",
    "import nltk\n",
    "from nltk.corpus import stopwords\n",
    "\n",
    "nltk.download('stopwords')\n",
    "\n",
    "def process_text(text): \n",
    "    text = re.sub('[^a-zA-Z]', ' ', text).lower()\n",
    "    words = text.split()\n",
    "    \n",
    "    all_stopwords = set(stopwords.words('english'))\n",
    "    all_stopwords.discard('not')\n",
    "    \n",
    "    filtered_words = [word for word in words if word not in all_stopwords]\n",
    "\n",
    "    seen = set()\n",
    "    unique_words = [word for word in filtered_words if not (word in seen or seen.add(word))]\n",
    "\n",
    "    return ' '.join(unique_words)"
   ]
  },
  {
   "cell_type": "code",
   "execution_count": 6,
   "id": "958dc1bb-099b-4fe0-a28a-739468930409",
   "metadata": {},
   "outputs": [],
   "source": [
    "headlines_20240816 = \"Amazon’s troubled drone delivery program faces latest challenge in Texas: Annoyed residents Stocks close higher Friday as market comeback lifts S&P 500 to best week of 2024Judge temporarily blocks sports streaming service Venu, siding with Fubo on antitrust concernsHarris calls for expanded child tax credit of up to $6,000 for families with newbornsFrequent media bidder Byron Allen draws ire with late payments to ABC, CBS and NBC Harris outlines an ‘opportunity economy’ centered on cutting food, housing, family costs GOP megadonor Miriam Adelson plans to do whatever it takes to help Trump win Streaming is getting more expensive for consumers. Here’s why Disney’s ‘Deadpool & Wolverine’ becomes the highest-grossing R-rated film of all time Trump owns more than $1 million in crypto and made $300K on branded Bibles, financial disclosure shows Bayer shares soar 11% after key U.S. legal win against Roundup cancer claims The federal minimum wage has been $7.25 for 15 years. How the election may change that British fintech Revolut valued at $45 billion in secondary share sale Inside the $93 million Wall Street heist that stemmed from Russia EV maker Rivian halts production of Amazon delivery vans amid parts shortage\""
   ]
  },
  {
   "cell_type": "code",
   "execution_count": 8,
   "id": "c3fb191a-7c7c-4549-bfda-6e9a8f3d4c3d",
   "metadata": {},
   "outputs": [],
   "source": [
    "input_text = process_text(headlines_20240816)"
   ]
  },
  {
   "cell_type": "code",
   "execution_count": 9,
   "id": "3e24f933-50d5-4739-a71a-6a9f389625e5",
   "metadata": {},
   "outputs": [
    {
     "data": {
      "text/plain": [
       "'amazon troubled drone delivery program faces latest challenge texas annoyed residents stocks close higher friday market comeback lifts p best week judge temporarily blocks sports streaming service venu siding fubo antitrust concernsharris calls expanded child tax credit families newbornsfrequent media bidder byron allen draws ire late payments abc cbs nbc harris outlines opportunity economy centered cutting food housing family costs gop megadonor miriam adelson plans whatever takes help trump win getting expensive consumers disney deadpool wolverine becomes highest grossing r rated film time owns million crypto made k branded bibles financial disclosure shows bayer shares soar key u legal roundup cancer claims federal minimum wage years election may change british fintech revolut valued billion secondary share sale inside wall street heist stemmed russia ev maker rivian halts production vans amid parts shortage'"
      ]
     },
     "execution_count": 9,
     "metadata": {},
     "output_type": "execute_result"
    }
   ],
   "source": [
    "input_text"
   ]
  },
  {
   "cell_type": "markdown",
   "id": "1a941ae5-21f7-4b3b-b0e4-6b96f6b5b17b",
   "metadata": {},
   "source": [
    "### Inference"
   ]
  },
  {
   "cell_type": "code",
   "execution_count": null,
   "id": "d6cc7777-0482-4be4-9947-9dd8fd1760e0",
   "metadata": {},
   "outputs": [],
   "source": [
    "inputs = tokenizer(input_text, return_tensors=\"pt\")\n",
    "outputs = model(**inputs)"
   ]
  },
  {
   "cell_type": "code",
   "execution_count": 11,
   "id": "03293cde-e052-44f4-b3b0-181538dc5de9",
   "metadata": {},
   "outputs": [
    {
     "name": "stdout",
     "output_type": "stream",
     "text": [
      "tensor([1])\n"
     ]
    }
   ],
   "source": [
    "predictions = outputs.logits.argmax(-1)\n",
    "print(predictions)"
   ]
  },
  {
   "cell_type": "markdown",
   "id": "2adf2a54-8dbc-43d8-9df3-ce864ed78ad3",
   "metadata": {},
   "source": [
    "--> Prediction: the S&P500 will close between -0.5% and +0.5% on Monday, August 19 2024"
   ]
  },
  {
   "cell_type": "code",
   "execution_count": null,
   "id": "da4bb42c-f6d6-41bd-a9c0-f7196435a338",
   "metadata": {},
   "outputs": [],
   "source": []
  }
 ],
 "metadata": {
  "kernelspec": {
   "display_name": "Python 3 (ipykernel)",
   "language": "python",
   "name": "python3"
  },
  "language_info": {
   "codemirror_mode": {
    "name": "ipython",
    "version": 3
   },
   "file_extension": ".py",
   "mimetype": "text/x-python",
   "name": "python",
   "nbconvert_exporter": "python",
   "pygments_lexer": "ipython3",
   "version": "3.12.2"
  }
 },
 "nbformat": 4,
 "nbformat_minor": 5
}

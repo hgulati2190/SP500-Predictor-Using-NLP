{
 "cells": [
  {
   "cell_type": "code",
   "execution_count": 13,
   "id": "576822ff-8d64-4aa1-bed6-5cf4b7fc175f",
   "metadata": {
    "tags": []
   },
   "outputs": [],
   "source": [
    "# salma_functions.py\n",
    "import re\n",
    "import requests\n",
    "from bs4 import BeautifulSoup\n",
    "import yfinance as yf\n",
    "from datetime import datetime, timedelta\n",
    "import nltk\n",
    "\n",
    "def clean_text(text):\n",
    "    nltk.download('punkt')\n",
    "    nltk.download('stopwords')\n",
    "    text = re.sub(r'[^A-Za-z\\s]', '', text)\n",
    "    text = text.lower()\n",
    "    tokens = nltk.word_tokenize(text)\n",
    "    stop_words = set(nltk.corpus.stopwords.words('english'))\n",
    "    filtered_tokens = [word for word in tokens if word not in stop_words]\n",
    "    cleaned_text = ' '.join(filtered_tokens)\n",
    "    return cleaned_text\n",
    "\n",
    "def collect_headlines():\n",
    "    headlines = []\n",
    "    cnbc_url = \"https://www.cnbc.com/us-economy\"\n",
    "    response = requests.get(cnbc_url)\n",
    "    soup = BeautifulSoup(response.content, 'html.parser')\n",
    "    cnbc_headlines = soup.find_all('a', class_='Card-title')\n",
    "    for i, headline in enumerate(cnbc_headlines):\n",
    "        if i >= 10:\n",
    "            break\n",
    "        headlines.append({'source': 'CNBC', 'text': headline.get_text(strip=True)})\n",
    "    return headlines\n",
    "\n",
    "def fetch_spy_data(date):\n",
    "    if isinstance(date, str):\n",
    "        date = datetime.strptime(date, '%Y-%m-%d')\n",
    "    if date.weekday() >= 5:\n",
    "        date -= timedelta(days=(date.weekday() - 4))\n",
    "    spy = yf.Ticker(\"SPY\")\n",
    "    start_date = date.strftime('%Y-%m-%d')\n",
    "    end_date = (date + timedelta(days=1)).strftime('%Y-%m-%d')\n",
    "    data = spy.history(start=start_date, end=end_date)\n",
    "    if not data.empty:\n",
    "        return data[['Open']].reset_index().to_dict(orient='records')\n",
    "    else:\n",
    "        return []\n"
   ]
  },
  {
   "cell_type": "code",
   "execution_count": null,
   "id": "471bc780-6fa5-4b87-b13a-b9710c8a65b5",
   "metadata": {},
   "outputs": [],
   "source": []
  },
  {
   "cell_type": "code",
   "execution_count": null,
   "id": "ad2c1284-3108-4518-9db1-58d20eec0785",
   "metadata": {},
   "outputs": [],
   "source": []
  }
 ],
 "metadata": {
  "kernelspec": {
   "display_name": "Python 3 (ipykernel)",
   "language": "python",
   "name": "python3"
  },
  "language_info": {
   "codemirror_mode": {
    "name": "ipython",
    "version": 3
   },
   "file_extension": ".py",
   "mimetype": "text/x-python",
   "name": "python",
   "nbconvert_exporter": "python",
   "pygments_lexer": "ipython3",
   "version": "3.11.4"
  }
 },
 "nbformat": 4,
 "nbformat_minor": 5
}

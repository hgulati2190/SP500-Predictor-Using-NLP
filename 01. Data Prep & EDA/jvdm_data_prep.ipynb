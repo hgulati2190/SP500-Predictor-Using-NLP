{
 "cells": [
  {
   "cell_type": "markdown",
   "metadata": {
    "id": "4XVWnM5dq7Nf"
   },
   "source": [
    "# Data Preprocessing and EDA\n",
    "- combine headlines with financial data from Yahoo Finance\n",
    "- separated headlines (data/combined_headlines.csv) by source (Guardian headlines may be too UK-centric to be relevant - tbd)\n",
    "- examine correlation sentiment per existing model (mrm8488/distilroberta-finetuned-financial-news-sentiment-analysis) vs. S&P500 trend?"
   ]
  },
  {
   "cell_type": "code",
   "execution_count": null,
   "metadata": {
    "executionInfo": {
     "elapsed": 357,
     "status": "ok",
     "timestamp": 1724686654069,
     "user": {
      "displayName": "Jeroen Van der Mynsbrugge",
      "userId": "02667971981336359468"
     },
     "user_tz": -120
    },
    "id": "ibrwn3Yyq7No"
   },
   "outputs": [],
   "source": [
    "import pandas as pd\n",
    "import matplotlib.pyplot as plt"
   ]
  },
  {
   "cell_type": "markdown",
   "metadata": {
    "id": "arpUYHz_q7Nq"
   },
   "source": [
    "### Load the data into Pandas dataframes"
   ]
  },
  {
   "cell_type": "code",
   "execution_count": null,
   "metadata": {
    "colab": {
     "base_uri": "https://localhost:8080/"
    },
    "executionInfo": {
     "elapsed": 24106,
     "status": "ok",
     "timestamp": 1724686682373,
     "user": {
      "displayName": "Jeroen Van der Mynsbrugge",
      "userId": "02667971981336359468"
     },
     "user_tz": -120
    },
    "id": "9jAnSJLQSQp1",
    "outputId": "7980177a-39e0-4a74-a681-eb23308157ac"
   },
   "outputs": [],
   "source": [
    "#from google.colab import drive\n",
    "#drive.mount('/content/drive/')"
   ]
  },
  {
   "cell_type": "code",
   "execution_count": null,
   "metadata": {
    "executionInfo": {
     "elapsed": 2465,
     "status": "ok",
     "timestamp": 1724686686227,
     "user": {
      "displayName": "Jeroen Van der Mynsbrugge",
      "userId": "02667971981336359468"
     },
     "user_tz": -120
    },
    "id": "SlCB-YN8SQp1"
   },
   "outputs": [],
   "source": [
    "#data_cnbc = pd.read_csv(\"/content/drive/MyDrive/SP500-Predictor/cnbc_headlines.csv\")\n",
    "#data_guardian = pd.read_csv(\"/content/drive/MyDrive/SP500-Predictor/guardian_headlines.csv\")\n",
    "#data_reuters = pd.read_csv(\"/content/drive/MyDrive/SP500-Predictor/reuters_headlines.csv\")\n",
    "\n",
    "data_cnbc = pd.read_csv(\"../data/cnbc_headlines.csv\")\n",
    "data_guardian = pd.read_csv(\"../data/guardian_headlines.csv\")\n",
    "data_reuters = pd.read_csv(\"../data/reuters_headlines.csv\")"
   ]
  },
  {
   "cell_type": "code",
   "execution_count": null,
   "metadata": {
    "executionInfo": {
     "elapsed": 4,
     "status": "ok",
     "timestamp": 1724686686228,
     "user": {
      "displayName": "Jeroen Van der Mynsbrugge",
      "userId": "02667971981336359468"
     },
     "user_tz": -120
    },
    "id": "vhoMVf1UT52J"
   },
   "outputs": [],
   "source": [
    "data_cnbc[\"Source\"] = \"CNBC\"\n",
    "data_guardian[\"Source\"] = \"Guardian\"\n",
    "data_reuters[\"Source\"] = \"Reuters\""
   ]
  },
  {
   "cell_type": "code",
   "execution_count": null,
   "metadata": {
    "colab": {
     "base_uri": "https://localhost:8080/",
     "height": 206
    },
    "executionInfo": {
     "elapsed": 356,
     "status": "ok",
     "timestamp": 1724686765578,
     "user": {
      "displayName": "Jeroen Van der Mynsbrugge",
      "userId": "02667971981336359468"
     },
     "user_tz": -120
    },
    "id": "kzSHKfMYU5Qm",
    "outputId": "07aeb399-b04d-4b45-97ab-72117a742c1f"
   },
   "outputs": [],
   "source": [
    "data_cnbc.head()"
   ]
  },
  {
   "cell_type": "code",
   "execution_count": null,
   "metadata": {
    "colab": {
     "base_uri": "https://localhost:8080/",
     "height": 206
    },
    "executionInfo": {
     "elapsed": 5,
     "status": "ok",
     "timestamp": 1724686766978,
     "user": {
      "displayName": "Jeroen Van der Mynsbrugge",
      "userId": "02667971981336359468"
     },
     "user_tz": -120
    },
    "id": "jPTy2hAnV1ny",
    "outputId": "82727971-a5d6-4234-d570-046f618d2f41"
   },
   "outputs": [],
   "source": [
    "data_guardian.head()"
   ]
  },
  {
   "cell_type": "code",
   "execution_count": null,
   "metadata": {
    "colab": {
     "base_uri": "https://localhost:8080/",
     "height": 206
    },
    "executionInfo": {
     "elapsed": 4,
     "status": "ok",
     "timestamp": 1724686768052,
     "user": {
      "displayName": "Jeroen Van der Mynsbrugge",
      "userId": "02667971981336359468"
     },
     "user_tz": -120
    },
    "id": "MRGoxQebV1eo",
    "outputId": "50a3795c-b7f3-4f98-e8e0-46401bdaf81f"
   },
   "outputs": [],
   "source": [
    "data_reuters.head()"
   ]
  },
  {
   "cell_type": "code",
   "execution_count": null,
   "metadata": {
    "executionInfo": {
     "elapsed": 329,
     "status": "ok",
     "timestamp": 1724686772876,
     "user": {
      "displayName": "Jeroen Van der Mynsbrugge",
      "userId": "02667971981336359468"
     },
     "user_tz": -120
    },
    "id": "Ot0bI_4HUO3O"
   },
   "outputs": [],
   "source": [
    "data = pd.concat([data_cnbc, data_guardian, data_reuters], axis=0, ignore_index=True)"
   ]
  },
  {
   "cell_type": "code",
   "execution_count": null,
   "metadata": {
    "colab": {
     "base_uri": "https://localhost:8080/",
     "height": 424
    },
    "executionInfo": {
     "elapsed": 4,
     "status": "ok",
     "timestamp": 1724686774303,
     "user": {
      "displayName": "Jeroen Van der Mynsbrugge",
      "userId": "02667971981336359468"
     },
     "user_tz": -120
    },
    "id": "Qq009c0sUkXk",
    "outputId": "e3515858-49d4-4bda-bec3-6578602dafbb"
   },
   "outputs": [],
   "source": [
    "data"
   ]
  },
  {
   "cell_type": "code",
   "execution_count": null,
   "metadata": {
    "colab": {
     "base_uri": "https://localhost:8080/"
    },
    "executionInfo": {
     "elapsed": 331,
     "status": "ok",
     "timestamp": 1724686785986,
     "user": {
      "displayName": "Jeroen Van der Mynsbrugge",
      "userId": "02667971981336359468"
     },
     "user_tz": -120
    },
    "id": "RrIn2BAnq7Ns",
    "outputId": "750fa016-f683-4fff-fcf9-36ccd5ad060b"
   },
   "outputs": [],
   "source": [
    "data.info()"
   ]
  },
  {
   "cell_type": "markdown",
   "metadata": {
    "id": "DwlJEGy0q7Nt"
   },
   "source": [
    "### Convert date column to datetime"
   ]
  },
  {
   "cell_type": "code",
   "execution_count": null,
   "metadata": {
    "executionInfo": {
     "elapsed": 333,
     "status": "ok",
     "timestamp": 1724686794033,
     "user": {
      "displayName": "Jeroen Van der Mynsbrugge",
      "userId": "02667971981336359468"
     },
     "user_tz": -120
    },
    "id": "BfI8slxYq7Nt"
   },
   "outputs": [],
   "source": [
    "data['Date'] = pd.to_datetime(data['Date'])\n",
    "data['Date'] = data['Date'].dt.tz_localize(None)"
   ]
  },
  {
   "cell_type": "markdown",
   "metadata": {
    "id": "S6Goc8uvq7Nu"
   },
   "source": [
    "### Determine date range covered by the dataset"
   ]
  },
  {
   "cell_type": "code",
   "execution_count": null,
   "metadata": {
    "colab": {
     "base_uri": "https://localhost:8080/"
    },
    "executionInfo": {
     "elapsed": 484,
     "status": "ok",
     "timestamp": 1724686802654,
     "user": {
      "displayName": "Jeroen Van der Mynsbrugge",
      "userId": "02667971981336359468"
     },
     "user_tz": -120
    },
    "id": "nrdvgqP3q7Nu",
    "outputId": "61fef23c-7a0e-4727-985e-1ce21c321324"
   },
   "outputs": [],
   "source": [
    "print(\"Start: \", data[\"Date\"].min().date())\n",
    "print(\"End:   \", data[\"Date\"].max().date())"
   ]
  },
  {
   "cell_type": "code",
   "execution_count": null,
   "metadata": {
    "colab": {
     "base_uri": "https://localhost:8080/",
     "height": 452
    },
    "executionInfo": {
     "elapsed": 770,
     "status": "ok",
     "timestamp": 1724686805839,
     "user": {
      "displayName": "Jeroen Van der Mynsbrugge",
      "userId": "02667971981336359468"
     },
     "user_tz": -120
    },
    "id": "VIlRcaDzq7Nv",
    "outputId": "bd5df237-7e14-4d70-fff6-4f9b3fb363ab"
   },
   "outputs": [],
   "source": [
    "plt.plot(data[\"Date\"])"
   ]
  },
  {
   "cell_type": "markdown",
   "metadata": {
    "id": "4TGIO8Okq7Nv"
   },
   "source": [
    "### Sort data chronologically (will make it easier to verify that financial data is added correctly)"
   ]
  },
  {
   "cell_type": "code",
   "execution_count": null,
   "metadata": {
    "executionInfo": {
     "elapsed": 434,
     "status": "ok",
     "timestamp": 1724686809952,
     "user": {
      "displayName": "Jeroen Van der Mynsbrugge",
      "userId": "02667971981336359468"
     },
     "user_tz": -120
    },
    "id": "uDr1WHpeq7Nv"
   },
   "outputs": [],
   "source": [
    "data.sort_values(by='Date', inplace=True)\n",
    "data = data.reset_index(drop=True)"
   ]
  },
  {
   "cell_type": "code",
   "execution_count": null,
   "metadata": {
    "colab": {
     "base_uri": "https://localhost:8080/",
     "height": 424
    },
    "executionInfo": {
     "elapsed": 358,
     "status": "ok",
     "timestamp": 1724686812738,
     "user": {
      "displayName": "Jeroen Van der Mynsbrugge",
      "userId": "02667971981336359468"
     },
     "user_tz": -120
    },
    "id": "vrJHG5Tmq7Nw",
    "outputId": "58aaa332-01f2-4e5a-929d-e2233b480ddb"
   },
   "outputs": [],
   "source": [
    "data"
   ]
  },
  {
   "cell_type": "code",
   "execution_count": null,
   "metadata": {
    "colab": {
     "base_uri": "https://localhost:8080/",
     "height": 452
    },
    "executionInfo": {
     "elapsed": 680,
     "status": "ok",
     "timestamp": 1724686817295,
     "user": {
      "displayName": "Jeroen Van der Mynsbrugge",
      "userId": "02667971981336359468"
     },
     "user_tz": -120
    },
    "id": "1ZXvRZXqq7Nw",
    "outputId": "ce4bd086-c835-4e97-8774-a8167a1293a4"
   },
   "outputs": [],
   "source": [
    "plt.plot(data[\"Date\"])"
   ]
  },
  {
   "cell_type": "markdown",
   "metadata": {
    "id": "XWikcyN7q7Nx"
   },
   "source": [
    "## Collect financial data from Yahoo Finance"
   ]
  },
  {
   "cell_type": "code",
   "execution_count": null,
   "metadata": {
    "executionInfo": {
     "elapsed": 823,
     "status": "ok",
     "timestamp": 1724686820777,
     "user": {
      "displayName": "Jeroen Van der Mynsbrugge",
      "userId": "02667971981336359468"
     },
     "user_tz": -120
    },
    "id": "MXw464bKq7Ny"
   },
   "outputs": [],
   "source": [
    "import yfinance as yf"
   ]
  },
  {
   "cell_type": "code",
   "execution_count": null,
   "metadata": {
    "executionInfo": {
     "elapsed": 702,
     "status": "ok",
     "timestamp": 1724686822710,
     "user": {
      "displayName": "Jeroen Van der Mynsbrugge",
      "userId": "02667971981336359468"
     },
     "user_tz": -120
    },
    "id": "snaokH6hq7Ny"
   },
   "outputs": [],
   "source": [
    "ticker = yf.Ticker(\"SPY\")\n",
    "start_date = data[\"Date\"].min().date() - pd.Timedelta(days=2) # buffer to account for weekends\n",
    "end_date = data[\"Date\"].max().date() + pd.Timedelta(days=10)\n",
    "spy_data = ticker.history(start=start_date, end=end_date)\n",
    "spy_data = spy_data.reset_index()\n",
    "spy_data[\"Date\"] = pd.to_datetime(spy_data[\"Date\"])\n",
    "spy_data[\"Date\"] = spy_data[\"Date\"].dt.tz_localize(None)"
   ]
  },
  {
   "cell_type": "code",
   "execution_count": null,
   "metadata": {
    "colab": {
     "base_uri": "https://localhost:8080/",
     "height": 424
    },
    "executionInfo": {
     "elapsed": 330,
     "status": "ok",
     "timestamp": 1724686829156,
     "user": {
      "displayName": "Jeroen Van der Mynsbrugge",
      "userId": "02667971981336359468"
     },
     "user_tz": -120
    },
    "id": "k6Q5O87zq7Ny",
    "outputId": "77792385-17d4-4902-dc5a-395b77eb89e9"
   },
   "outputs": [],
   "source": [
    "spy_data"
   ]
  },
  {
   "cell_type": "markdown",
   "metadata": {
    "id": "hXMFjn2Hq7Nz"
   },
   "source": [
    "### Add closing prices for next three trading days"
   ]
  },
  {
   "cell_type": "code",
   "execution_count": null,
   "metadata": {
    "colab": {
     "base_uri": "https://localhost:8080/",
     "height": 736
    },
    "executionInfo": {
     "elapsed": 403,
     "status": "ok",
     "timestamp": 1724686837222,
     "user": {
      "displayName": "Jeroen Van der Mynsbrugge",
      "userId": "02667971981336359468"
     },
     "user_tz": -120
    },
    "id": "WVE6YJWLq7Nz",
    "outputId": "ec40c542-c5f4-4b76-f216-b783c0942131"
   },
   "outputs": [],
   "source": [
    "spy_data = spy_data[[\"Date\", \"Close\"]]\n",
    "spy_data[\"CloseD+1\"] = spy_data[\"Close\"].shift(-1)\n",
    "spy_data[\"CloseD+2\"] = spy_data[\"Close\"].shift(-2)\n",
    "spy_data[\"CloseD+3\"] = spy_data[\"Close\"].shift(-3)\n",
    "spy_data"
   ]
  },
  {
   "cell_type": "code",
   "execution_count": null,
   "metadata": {
    "colab": {
     "base_uri": "https://localhost:8080/",
     "height": 424
    },
    "executionInfo": {
     "elapsed": 334,
     "status": "ok",
     "timestamp": 1724686839121,
     "user": {
      "displayName": "Jeroen Van der Mynsbrugge",
      "userId": "02667971981336359468"
     },
     "user_tz": -120
    },
    "id": "_OfXScWpq7N0",
    "outputId": "7dcea774-905c-4a62-8f69-8088fbbd212d"
   },
   "outputs": [],
   "source": [
    "spy_data = spy_data.set_index(\"Date\").asfreq(\"D\", method=\"ffill\").reset_index()\n",
    "spy_data"
   ]
  },
  {
   "cell_type": "markdown",
   "metadata": {
    "id": "f7SXHbP2q7N0"
   },
   "source": [
    "### Merge stock market data into original DataFrame"
   ]
  },
  {
   "cell_type": "code",
   "execution_count": null,
   "metadata": {
    "colab": {
     "base_uri": "https://localhost:8080/",
     "height": 363
    },
    "executionInfo": {
     "elapsed": 371,
     "status": "ok",
     "timestamp": 1724686849460,
     "user": {
      "displayName": "Jeroen Van der Mynsbrugge",
      "userId": "02667971981336359468"
     },
     "user_tz": -120
    },
    "id": "j2NxqTAdq7N0",
    "outputId": "36daca12-37d9-47c1-d794-6140edc411e4"
   },
   "outputs": [],
   "source": [
    "merged_data = pd.merge(data, spy_data[[\"Date\", \"Close\", \"CloseD+1\", \"CloseD+2\", \"CloseD+3\"]], on=\"Date\", how=\"left\")\n",
    "merged_data.sample(10)"
   ]
  },
  {
   "cell_type": "markdown",
   "metadata": {
    "id": "qKgYLzbaq7N1"
   },
   "source": [
    "### Calculate percentage shift in value 1, 2 and 3 trading days after the current date"
   ]
  },
  {
   "cell_type": "code",
   "execution_count": null,
   "metadata": {
    "executionInfo": {
     "elapsed": 336,
     "status": "ok",
     "timestamp": 1724686885786,
     "user": {
      "displayName": "Jeroen Van der Mynsbrugge",
      "userId": "02667971981336359468"
     },
     "user_tz": -120
    },
    "id": "ogmEAgy0q7N1"
   },
   "outputs": [],
   "source": [
    "for i in range(1, 4):\n",
    "    spy_data[f\"PercentageD+{i}\"] = ( ( spy_data[f\"CloseD+{i}\"] - spy_data[\"Close\"] ) / spy_data[\"Close\"] ) * 100"
   ]
  },
  {
   "cell_type": "code",
   "execution_count": null,
   "metadata": {
    "colab": {
     "base_uri": "https://localhost:8080/",
     "height": 424
    },
    "executionInfo": {
     "elapsed": 351,
     "status": "ok",
     "timestamp": 1724686888423,
     "user": {
      "displayName": "Jeroen Van der Mynsbrugge",
      "userId": "02667971981336359468"
     },
     "user_tz": -120
    },
    "id": "Kq_LN68aq7N1",
    "outputId": "394ead74-0fa8-4046-d467-3673401fb7cd"
   },
   "outputs": [],
   "source": [
    "spy_data"
   ]
  },
  {
   "cell_type": "code",
   "execution_count": null,
   "metadata": {
    "colab": {
     "base_uri": "https://localhost:8080/",
     "height": 546
    },
    "executionInfo": {
     "elapsed": 1754,
     "status": "ok",
     "timestamp": 1724686896158,
     "user": {
      "displayName": "Jeroen Van der Mynsbrugge",
      "userId": "02667971981336359468"
     },
     "user_tz": -120
    },
    "id": "GlnPXLHTq7N2",
    "outputId": "641f8800-4b44-4cd5-da6d-72de0ee145e7"
   },
   "outputs": [],
   "source": [
    "import seaborn as sns\n",
    "\n",
    "plt.figure(figsize=(10, 6))\n",
    "\n",
    "# Using histplot to show histogram and KDE\n",
    "sns.displot(spy_data['PercentageD+1'])\n",
    "\n",
    "# Or use kdeplot for only KDE\n",
    "# sns.kdeplot(df['percent_values'], shade=True)\n",
    "\n",
    "# Plot customization\n",
    "plt.title('Distribution of Percent Values')\n",
    "plt.xlabel('Percent Values')\n",
    "plt.ylabel('Density')\n",
    "plt.show()"
   ]
  },
  {
   "cell_type": "code",
   "execution_count": null,
   "metadata": {
    "colab": {
     "base_uri": "https://localhost:8080/",
     "height": 300
    },
    "executionInfo": {
     "elapsed": 4,
     "status": "ok",
     "timestamp": 1724686897585,
     "user": {
      "displayName": "Jeroen Van der Mynsbrugge",
      "userId": "02667971981336359468"
     },
     "user_tz": -120
    },
    "id": "8dNU2nxNq7N2",
    "outputId": "4e5f5cc7-e5ee-46e4-f6fb-9e7d7633cdda"
   },
   "outputs": [],
   "source": [
    "spy_data[[\"PercentageD+1\",\"PercentageD+2\",\"PercentageD+3\"]].describe()"
   ]
  },
  {
   "cell_type": "code",
   "execution_count": null,
   "metadata": {
    "colab": {
     "base_uri": "https://localhost:8080/",
     "height": 424
    },
    "executionInfo": {
     "elapsed": 545,
     "status": "ok",
     "timestamp": 1724686908541,
     "user": {
      "displayName": "Jeroen Van der Mynsbrugge",
      "userId": "02667971981336359468"
     },
     "user_tz": -120
    },
    "id": "_oPBSiNwq7N5",
    "outputId": "55b71ea4-ffdf-4423-f00f-fe50e6e16e7a"
   },
   "outputs": [],
   "source": [
    "spy_data[spy_data[\"PercentageD+1\"] < -0.5]"
   ]
  },
  {
   "cell_type": "markdown",
   "metadata": {
    "id": "qzZA6sVvq7N6"
   },
   "source": [
    "### Add category labels characterizing observed trends\n",
    "\n",
    "Focus on TrendD+1; intuitively, this is most likely to be correlated with the sentiment of individual headlines.\n",
    "\n",
    "Changes between -0.5% and +0.5% in a day are very common. Therefore, define trends as follows:\n",
    "\n",
    " - 'decrease': percentage shift < -0.5% --> 0\n",
    " - 'maintain': percentage shift between -0.5% and +0.5% --> 1\n",
    " - 'increase': percentage shift > 0.5% --> 2"
   ]
  },
  {
   "cell_type": "code",
   "execution_count": null,
   "metadata": {
    "executionInfo": {
     "elapsed": 338,
     "status": "ok",
     "timestamp": 1724687046721,
     "user": {
      "displayName": "Jeroen Van der Mynsbrugge",
      "userId": "02667971981336359468"
     },
     "user_tz": -120
    },
    "id": "oRs5hmqaq7N7"
   },
   "outputs": [],
   "source": [
    "for i in range(1, 4):\n",
    "    spy_data[f\"TrendD+{i}\"] = spy_data[f\"PercentageD+{i}\"].apply(\n",
    "        lambda x: 1 if -0.5 <= x <= 0.5\n",
    "        else (0 if x < -0.5\n",
    "        else 2)\n",
    "    )"
   ]
  },
  {
   "cell_type": "code",
   "execution_count": null,
   "metadata": {
    "colab": {
     "base_uri": "https://localhost:8080/",
     "height": 424
    },
    "executionInfo": {
     "elapsed": 332,
     "status": "ok",
     "timestamp": 1724687048287,
     "user": {
      "displayName": "Jeroen Van der Mynsbrugge",
      "userId": "02667971981336359468"
     },
     "user_tz": -120
    },
    "id": "tWyw-0c5q7N7",
    "outputId": "fe03750b-f177-4c9c-d2bb-817c93212c09"
   },
   "outputs": [],
   "source": [
    "spy_data"
   ]
  },
  {
   "cell_type": "markdown",
   "metadata": {
    "id": "tQWTAJpHq7N8"
   },
   "source": [
    "### Merge financial data into original dataframe"
   ]
  },
  {
   "cell_type": "code",
   "execution_count": null,
   "metadata": {
    "executionInfo": {
     "elapsed": 422,
     "status": "ok",
     "timestamp": 1724687067349,
     "user": {
      "displayName": "Jeroen Van der Mynsbrugge",
      "userId": "02667971981336359468"
     },
     "user_tz": -120
    },
    "id": "nPTFE4evq7N8"
   },
   "outputs": [],
   "source": [
    "data = data.merge(spy_data[[\"Date\", \"Close\", \"CloseD+1\", \"PercentageD+1\", \"TrendD+1\"]], on='Date', how='left')"
   ]
  },
  {
   "cell_type": "code",
   "execution_count": null,
   "metadata": {
    "colab": {
     "base_uri": "https://localhost:8080/",
     "height": 424
    },
    "executionInfo": {
     "elapsed": 4,
     "status": "ok",
     "timestamp": 1724687068768,
     "user": {
      "displayName": "Jeroen Van der Mynsbrugge",
      "userId": "02667971981336359468"
     },
     "user_tz": -120
    },
    "id": "K7cVOy3Cq7N9",
    "outputId": "df7e4c44-dae0-4a08-8c34-9c364c9bd459"
   },
   "outputs": [],
   "source": [
    "data"
   ]
  },
  {
   "cell_type": "code",
   "execution_count": null,
   "metadata": {
    "colab": {
     "base_uri": "https://localhost:8080/",
     "height": 300
    },
    "executionInfo": {
     "elapsed": 4,
     "status": "ok",
     "timestamp": 1724687072592,
     "user": {
      "displayName": "Jeroen Van der Mynsbrugge",
      "userId": "02667971981336359468"
     },
     "user_tz": -120
    },
    "id": "uv5asnbKq7N-",
    "outputId": "8b435ef9-3150-41e7-ec81-820e772bb0e5"
   },
   "outputs": [],
   "source": [
    "data.describe()"
   ]
  },
  {
   "cell_type": "code",
   "execution_count": null,
   "metadata": {
    "colab": {
     "base_uri": "https://localhost:8080/",
     "height": 424
    },
    "executionInfo": {
     "elapsed": 421,
     "status": "ok",
     "timestamp": 1724687078091,
     "user": {
      "displayName": "Jeroen Van der Mynsbrugge",
      "userId": "02667971981336359468"
     },
     "user_tz": -120
    },
    "id": "fvmSKMj8q7N_",
    "outputId": "c1c7cadd-e423-4188-e54c-a892ee82cffb"
   },
   "outputs": [],
   "source": [
    "data[data[\"PercentageD+1\"] < -0.5]"
   ]
  },
  {
   "cell_type": "code",
   "execution_count": null,
   "metadata": {
    "executionInfo": {
     "elapsed": 1234,
     "status": "ok",
     "timestamp": 1724687149152,
     "user": {
      "displayName": "Jeroen Van der Mynsbrugge",
      "userId": "02667971981336359468"
     },
     "user_tz": -120
    },
    "id": "P2i_TBsf9Qwx"
   },
   "outputs": [],
   "source": [
    "#data.to_csv(\"/content/drive/MyDrive/SP500-Predictor/jvdm_data_sources_trends.csv\", index=False, float_format=\"%0.4f\")\n",
    "data.to_csv(\"../data/jvdm_data_sources_trends.csv\", index=False, float_format=\"%0.4f\")"
   ]
  },
  {
   "cell_type": "markdown",
   "metadata": {},
   "source": [
    "### Examine correlation between TrendD+1 and sentiment as predicted by existing transformer model"
   ]
  },
  {
   "cell_type": "code",
   "execution_count": null,
   "metadata": {
    "colab": {
     "base_uri": "https://localhost:8080/"
    },
    "executionInfo": {
     "elapsed": 23309,
     "status": "ok",
     "timestamp": 1724687206103,
     "user": {
      "displayName": "Jeroen Van der Mynsbrugge",
      "userId": "02667971981336359468"
     },
     "user_tz": -120
    },
    "id": "hj0aWixQ96iS",
    "outputId": "13a6a52a-92f1-4f3f-e629-1af3747cffb7"
   },
   "outputs": [],
   "source": [
    "!pip install transformers datasets"
   ]
  },
  {
   "cell_type": "code",
   "execution_count": null,
   "metadata": {
    "colab": {
     "base_uri": "https://localhost:8080/"
    },
    "executionInfo": {
     "elapsed": 24358,
     "status": "ok",
     "timestamp": 1724687230458,
     "user": {
      "displayName": "Jeroen Van der Mynsbrugge",
      "userId": "02667971981336359468"
     },
     "user_tz": -120
    },
    "id": "RThUDVWkreu6",
    "outputId": "bae70ab3-a306-496b-9750-b5654851a929"
   },
   "outputs": [],
   "source": [
    "#from google.colab import drive\n",
    "#drive.mount('/content/drive')"
   ]
  },
  {
   "cell_type": "code",
   "execution_count": null,
   "metadata": {
    "executionInfo": {
     "elapsed": 1025,
     "status": "ok",
     "timestamp": 1724687231480,
     "user": {
      "displayName": "Jeroen Van der Mynsbrugge",
      "userId": "02667971981336359468"
     },
     "user_tz": -120
    },
    "id": "X6mZUS_v-MbQ"
   },
   "outputs": [],
   "source": [
    "import pandas as pd"
   ]
  },
  {
   "cell_type": "code",
   "execution_count": null,
   "metadata": {
    "colab": {
     "base_uri": "https://localhost:8080/",
     "height": 424
    },
    "executionInfo": {
     "elapsed": 1539,
     "status": "ok",
     "timestamp": 1724687233017,
     "user": {
      "displayName": "Jeroen Van der Mynsbrugge",
      "userId": "02667971981336359468"
     },
     "user_tz": -120
    },
    "id": "6RsTS05eq7Nr",
    "outputId": "c709c31c-eac4-402c-f73c-05ef9aa95a07"
   },
   "outputs": [],
   "source": [
    "#data = pd.read_csv(\"/content/drive/MyDrive/SP500-Predictor/jvdm_data_sources_trends.csv\")\n",
    "data = pd.read_csv(\"../data/jvdm_data_sources_trends.csv\")\n",
    "data"
   ]
  },
  {
   "cell_type": "code",
   "execution_count": null,
   "metadata": {
    "executionInfo": {
     "elapsed": 2447,
     "status": "ok",
     "timestamp": 1724687348432,
     "user": {
      "displayName": "Jeroen Van der Mynsbrugge",
      "userId": "02667971981336359468"
     },
     "user_tz": -120
    },
    "id": "tXoQeBh2-jPY"
   },
   "outputs": [],
   "source": [
    "from datasets import Dataset\n",
    "dataset = Dataset.from_pandas(data)"
   ]
  },
  {
   "cell_type": "code",
   "execution_count": null,
   "metadata": {
    "colab": {
     "base_uri": "https://localhost:8080/",
     "height": 365,
     "referenced_widgets": [
      "aae168088ac2475d9f508e061162be92",
      "576fa48ddaf54742bf955a6141aa1300",
      "f7743e1af422499ea3c74ca50e3cc5b5",
      "b163d08d953946e9a756f7b7412b8215",
      "43b43403084e458794c12b3d33a7c044",
      "cc2f253673a54444950f8f6cee45ebd9",
      "2b908353e89e4b1fadfd6d3cef172dc5",
      "46e248a5a67f48608d685eee8c4e8397",
      "2ba71cca5027464890f248a27a41ff56",
      "7854b1a7b7324ba2bf3c196eb66dd879",
      "38ca8a77f5494e4c8a7ca90465eff518",
      "c85dfffa3b71462fa773edc88b946cf9",
      "81f29a0178504be98915fc4a3c51d4ad",
      "4278996454fb420ea5fd6234fe094f83",
      "da68c2339d104a2992a728a6fce1f3cd",
      "6ee15a01f81f49028e02c81202ecbd6e",
      "9fbc7908595845a5a339f8290fcaf7be",
      "d8ae26b4cfba44a38f1c3a76d09f7ff8",
      "3ba3a3c0152f4d8d8b1294a1bc671cea",
      "05be0afcbab14ef7b8bf2feac15485f7",
      "4e48111d9b32429bb51c3b2d04db2ead",
      "87243470a73f46b2ac55f05e0dfce1be",
      "70b772a034964222a8cd7d87b0ea8c15",
      "e05dbb2106164a38a55c96cfeb35d8c7",
      "570e253001ac4b9e8a504dcf4f203986",
      "a083c60313f9478d888c710de897b4f3",
      "bc5a7aac2a9744b5a353d209d53e7758",
      "f4a20f5798b740fe96b9ac32aa61a9fa",
      "045a07208793444fb415609dcfed377f",
      "84dc9d4b5937454a8935463314b167f3",
      "2ca17de0421d44a8be61d108ca0d68b8",
      "e341d1fbc30f442ba54abaee66b2e1b1",
      "d55dc3315d8c475e8d899a26f6b8e179",
      "89a659ead07d477d8c95085936b86946",
      "49a6d3e3f8ea40fe97fe6afb1fb03ff0",
      "78d79b7693784bee899371a3b9faf329",
      "83d51037252f4bc8a2b518e7e1ff4beb",
      "7584a32a8b7449af87a16317cfdd52e9",
      "0be3b70ac7d042849d0146cbe0997ebf",
      "9214f8cb409940d78dabf4b092d6a4e0",
      "830a7944f6774bc7bd35c41f74395f71",
      "1e771d05872e42c591c0b19c1e770375",
      "36af15a7fecd4bd0b659dcf18ba46cbe",
      "be5bce9d2a064363ab4e9cfba9d32d2b",
      "61531c77e2314e9d8f2cbe411657a40a",
      "97a2b78130e04682ac75876de14b0b9a",
      "313bfa71c326480d8023e10eeda25177",
      "31de0753b19143c2829099e7bc18c042",
      "ef6949c06b584e3b8891e9bfc9c814b8",
      "968ebcc540e64c0d99233208893ff4ea",
      "be57b917c37f477eabb15e9ad23139d4",
      "d34c1c6ae1a94cfa8e8a9793625abe3e",
      "3543b511a7f74898a06ebff34b6d7dbb",
      "030e1389e6554ab7b741613f9f792238",
      "7b859613d81b406f81052906b517d60c",
      "a0c8469ae7f5433aa198f42493f7d54b",
      "1803b1202d4d40b6ab064680776b46a8",
      "0e0d773d56464693b5e64fdeb48778fa",
      "51259b502db04134a91ee03c4fc0e109",
      "06b8d3820b944d368ec82699df6b19c9",
      "55253033ac6b44949f7d7e590a90be06",
      "59582ca7daba491598856b8765f4cba0",
      "1e9af1afcf674e7dbd65abcf42f90485",
      "c3a03a311ae84eb7bb997525cfeca920",
      "91196eef30f64afc9ffe562d91907047",
      "c0740d1aa7894ef7a7f8daf3d93d7f40",
      "a27950c6cf774054980bc5599a8d749e",
      "932fe29aeb9144088a73ad1819b27148",
      "74c5c06c8807485c91454ac4fdf20ea6",
      "c7854f79ec4d45739c6473c23eac9ade",
      "e7b366a39942432497911e9ea4852e3d",
      "7ee233013cad468a8a53437e97559f85",
      "547a54f4088542c18007c6f328212490",
      "04ec571e647043c7b3222445c2d8f536",
      "c9a58f56e6304dba8ce786f4bd634c09",
      "5fd5df28e825495eb2e73872ef606711",
      "71e128e6b394464bb99cd403ca0e84f4"
     ]
    },
    "executionInfo": {
     "elapsed": 19666,
     "status": "ok",
     "timestamp": 1724687374341,
     "user": {
      "displayName": "Jeroen Van der Mynsbrugge",
      "userId": "02667971981336359468"
     },
     "user_tz": -120
    },
    "id": "lPsbl1RcrF9Y",
    "outputId": "9eecdffc-d65c-4d2a-92ad-30bffebca557"
   },
   "outputs": [],
   "source": [
    "from transformers import pipeline\n",
    "\n",
    "model_name = 'mrm8488/distilroberta-finetuned-financial-news-sentiment-analysis'\n",
    "sentiment_analyzer = pipeline('sentiment-analysis', model=model_name, device=0, batch_size=32)\n"
   ]
  },
  {
   "cell_type": "code",
   "execution_count": null,
   "metadata": {
    "executionInfo": {
     "elapsed": 382,
     "status": "ok",
     "timestamp": 1724687406693,
     "user": {
      "displayName": "Jeroen Van der Mynsbrugge",
      "userId": "02667971981336359468"
     },
     "user_tz": -120
    },
    "id": "zF5sRqx7-ysw"
   },
   "outputs": [],
   "source": [
    "def process_batch(batch):\n",
    "    results = sentiment_analyzer(batch[\"Headlines\"])\n",
    "    label_map = {\"negative\": 0, \"neutral\": 1, \"positive\": 2}\n",
    "\n",
    "    # Extract labels and probabilities\n",
    "    labels = [label_map[result[\"label\"]] for result in results]\n",
    "    probabilities = [result[\"score\"] for result in results]\n",
    "\n",
    "    return {\"SentimentLabel\": labels, \"SentimentProb\": probabilities}"
   ]
  },
  {
   "cell_type": "code",
   "execution_count": null,
   "metadata": {
    "colab": {
     "base_uri": "https://localhost:8080/",
     "height": 66,
     "referenced_widgets": [
      "3edbadcc9613471a84431e9b99d59f14",
      "1653fd4febbf4c97a61fa203912d8073",
      "96dc3ad97c2d45078e46a67d13eebbdf",
      "0416ff6d2836456b977110659dd7b4a9",
      "ac6408403da24cdcaaa9a9bbc12d6c53",
      "1b0edfad53624cfc8874ed8c94484043",
      "09499c6dfedb48259a2a5ee485ad1eba",
      "579d0af9d7d34869a158ecc25e15ad5b",
      "106805ee758140ef9964518f4b43fa98",
      "a7abc5e61d88480789a999a301ff754f",
      "10fff41f09ac4a1daa2a3f108ff77663"
     ]
    },
    "executionInfo": {
     "elapsed": 57253,
     "status": "ok",
     "timestamp": 1724687468242,
     "user": {
      "displayName": "Jeroen Van der Mynsbrugge",
      "userId": "02667971981336359468"
     },
     "user_tz": -120
    },
    "id": "hKHw7FVA-yOL",
    "outputId": "d6058661-c509-451c-9c36-31de2a599c68"
   },
   "outputs": [],
   "source": [
    "dataset = dataset.map(process_batch, batched=True, batch_size=32)"
   ]
  },
  {
   "cell_type": "code",
   "execution_count": null,
   "metadata": {
    "executionInfo": {
     "elapsed": 340,
     "status": "ok",
     "timestamp": 1724687733279,
     "user": {
      "displayName": "Jeroen Van der Mynsbrugge",
      "userId": "02667971981336359468"
     },
     "user_tz": -120
    },
    "id": "vfjpM2sA7q4E"
   },
   "outputs": [],
   "source": [
    "processed_data = dataset.to_pandas()"
   ]
  },
  {
   "cell_type": "code",
   "execution_count": null,
   "metadata": {
    "executionInfo": {
     "elapsed": 1258,
     "status": "ok",
     "timestamp": 1724687789186,
     "user": {
      "displayName": "Jeroen Van der Mynsbrugge",
      "userId": "02667971981336359468"
     },
     "user_tz": -120
    },
    "id": "8QIz0UdPZgv9"
   },
   "outputs": [],
   "source": [
    "#processed_data.to_csv(\"/content/drive/MyDrive/SP500-Predictor/jvdm_data_sources_trends_sentiments.csv\", index=False, float_format=\"%0.4f\")\n",
    "processed_data.to_csv(\"../data/jvdm_data_sources_trends_sentiments.csv\", index=False, float_format=\"%0.4f\")"
   ]
  },
  {
   "cell_type": "code",
   "execution_count": null,
   "metadata": {
    "colab": {
     "base_uri": "https://localhost:8080/"
    },
    "executionInfo": {
     "elapsed": 26962,
     "status": "ok",
     "timestamp": 1724687844179,
     "user": {
      "displayName": "Jeroen Van der Mynsbrugge",
      "userId": "02667971981336359468"
     },
     "user_tz": -120
    },
    "id": "q92Bhj0rZ2Rm",
    "outputId": "5911d695-f3d2-47fd-bbd2-1f353bf4c9b8"
   },
   "outputs": [],
   "source": [
    "from google.colab import drive\n",
    "drive.mount('/content/drive')"
   ]
  },
  {
   "cell_type": "code",
   "execution_count": null,
   "metadata": {
    "executionInfo": {
     "elapsed": 2889,
     "status": "ok",
     "timestamp": 1724687982543,
     "user": {
      "displayName": "Jeroen Van der Mynsbrugge",
      "userId": "02667971981336359468"
     },
     "user_tz": -120
    },
    "id": "ELkM6pFFZ17t"
   },
   "outputs": [],
   "source": [
    "import pandas as pd\n",
    "import matplotlib.pyplot as plt\n",
    "import seaborn as sns"
   ]
  },
  {
   "cell_type": "code",
   "execution_count": null,
   "metadata": {
    "colab": {
     "base_uri": "https://localhost:8080/",
     "height": 424
    },
    "executionInfo": {
     "elapsed": 1130,
     "status": "ok",
     "timestamp": 1724687870782,
     "user": {
      "displayName": "Jeroen Van der Mynsbrugge",
      "userId": "02667971981336359468"
     },
     "user_tz": -120
    },
    "id": "eGDOiXrbZ1x0",
    "outputId": "db08cfe1-3092-4f10-b2bd-f8252ca17dc1"
   },
   "outputs": [],
   "source": [
    "#data = pd.read_csv(\"/content/drive/MyDrive/SP500-Predictor/jvdm_data_sources_trends_sentiments.csv\")\n",
    "data = pd.read_csv(\"../data/jvdm_data_sources_trends_sentiments.csv\")\n",
    "data"
   ]
  },
  {
   "cell_type": "code",
   "execution_count": null,
   "metadata": {
    "executionInfo": {
     "elapsed": 325,
     "status": "ok",
     "timestamp": 1724689011264,
     "user": {
      "displayName": "Jeroen Van der Mynsbrugge",
      "userId": "02667971981336359468"
     },
     "user_tz": -120
    },
    "id": "8f-io9Z-bDuI"
   },
   "outputs": [],
   "source": [
    "data[\"Correlation\"] = data[\"SentimentLabel\"] - data[\"TrendD+1\"]"
   ]
  },
  {
   "cell_type": "code",
   "execution_count": null,
   "metadata": {
    "colab": {
     "base_uri": "https://localhost:8080/"
    },
    "executionInfo": {
     "elapsed": 303,
     "status": "ok",
     "timestamp": 1724689284935,
     "user": {
      "displayName": "Jeroen Van der Mynsbrugge",
      "userId": "02667971981336359468"
     },
     "user_tz": -120
    },
    "id": "X3SzQZY3aUMC",
    "outputId": "a8dbbd38-4701-4ee9-9aee-ff3af30361ed"
   },
   "outputs": [],
   "source": [
    "print(len(data[(data[\"Source\"] == \"CNBC\") & (data[\"Correlation\"] == -2)]) / len(data[data[\"Source\"] == \"CNBC\"]))\n",
    "print(len(data[(data[\"Source\"] == \"CNBC\") & (data[\"Correlation\"] == -1)]) / len(data[data[\"Source\"] == \"CNBC\"]))\n",
    "print(len(data[(data[\"Source\"] == \"CNBC\") & (data[\"Correlation\"] == 0)]) / len(data[data[\"Source\"] == \"CNBC\"]))\n",
    "print(len(data[(data[\"Source\"] == \"CNBC\") & (data[\"Correlation\"] == 1)]) / len(data[data[\"Source\"] == \"CNBC\"]))\n",
    "print(len(data[(data[\"Source\"] == \"CNBC\") & (data[\"Correlation\"] == 2)]) / len(data[data[\"Source\"] == \"CNBC\"]))"
   ]
  },
  {
   "cell_type": "code",
   "execution_count": null,
   "metadata": {
    "colab": {
     "base_uri": "https://localhost:8080/"
    },
    "executionInfo": {
     "elapsed": 319,
     "status": "ok",
     "timestamp": 1724689358873,
     "user": {
      "displayName": "Jeroen Van der Mynsbrugge",
      "userId": "02667971981336359468"
     },
     "user_tz": -120
    },
    "id": "91md2EZ6aUEK",
    "outputId": "12b7fa69-b855-44c8-8f8a-045e85ff64d2"
   },
   "outputs": [],
   "source": [
    "print(len(data[(data[\"Source\"] == \"Guardian\") & (data[\"Correlation\"] == -2)]) / len(data[data[\"Source\"] == \"Guardian\"]))\n",
    "print(len(data[(data[\"Source\"] == \"Guardian\") & (data[\"Correlation\"] == -1)]) / len(data[data[\"Source\"] == \"Guardian\"]))\n",
    "print(len(data[(data[\"Source\"] == \"Guardian\") & (data[\"Correlation\"] == 0)]) / len(data[data[\"Source\"] == \"Guardian\"]))\n",
    "print(len(data[(data[\"Source\"] == \"Guardian\") & (data[\"Correlation\"] == 1)]) / len(data[data[\"Source\"] == \"Guardian\"]))\n",
    "print(len(data[(data[\"Source\"] == \"Guardian\") & (data[\"Correlation\"] == 2)]) / len(data[data[\"Source\"] == \"Guardian\"]))"
   ]
  },
  {
   "cell_type": "code",
   "execution_count": null,
   "metadata": {
    "colab": {
     "base_uri": "https://localhost:8080/"
    },
    "executionInfo": {
     "elapsed": 314,
     "status": "ok",
     "timestamp": 1724689377232,
     "user": {
      "displayName": "Jeroen Van der Mynsbrugge",
      "userId": "02667971981336359468"
     },
     "user_tz": -120
    },
    "id": "maD1jklFaT8H",
    "outputId": "4b6fd25f-8183-49a7-adeb-24332c576731"
   },
   "outputs": [],
   "source": [
    "print(len(data[(data[\"Source\"] == \"Reuters\") & (data[\"Correlation\"] == -2)]) / len(data[data[\"Source\"] == \"Reuters\"]))\n",
    "print(len(data[(data[\"Source\"] == \"Reuters\") & (data[\"Correlation\"] == -1)]) / len(data[data[\"Source\"] == \"Reuters\"]))\n",
    "print(len(data[(data[\"Source\"] == \"Reuters\") & (data[\"Correlation\"] == 0)]) / len(data[data[\"Source\"] == \"Reuters\"]))\n",
    "print(len(data[(data[\"Source\"] == \"Reuters\") & (data[\"Correlation\"] == 1)]) / len(data[data[\"Source\"] == \"Reuters\"]))\n",
    "print(len(data[(data[\"Source\"] == \"Reuters\") & (data[\"Correlation\"] == 2)]) / len(data[data[\"Source\"] == \"Reuters\"]))"
   ]
  },
  {
   "cell_type": "code",
   "execution_count": null,
   "metadata": {
    "colab": {
     "base_uri": "https://localhost:8080/",
     "height": 363
    },
    "executionInfo": {
     "elapsed": 318,
     "status": "ok",
     "timestamp": 1724689680821,
     "user": {
      "displayName": "Jeroen Van der Mynsbrugge",
      "userId": "02667971981336359468"
     },
     "user_tz": -120
    },
    "id": "Drme0FZqrFoO",
    "outputId": "3f059ed7-b7cc-4339-928e-05f039a5e405"
   },
   "outputs": [],
   "source": [
    "data[data[\"Correlation\"] == -2].sample(10, random_state=42)[[\"Headlines\", \"TrendD+1\", \"SentimentLabel\"]]"
   ]
  },
  {
   "cell_type": "code",
   "execution_count": null,
   "metadata": {
    "colab": {
     "base_uri": "https://localhost:8080/"
    },
    "executionInfo": {
     "elapsed": 314,
     "status": "ok",
     "timestamp": 1724689718306,
     "user": {
      "displayName": "Jeroen Van der Mynsbrugge",
      "userId": "02667971981336359468"
     },
     "user_tz": -120
    },
    "id": "njtWmfSEhHEA",
    "outputId": "a5b49c0f-afa0-4ec9-b2e4-9329f6a11b70"
   },
   "outputs": [],
   "source": [
    "data[data[\"Correlation\"] == -2].sample(10, random_state=42)[[\"Headlines\", \"TrendD+1\", \"SentimentLabel\"]].Headlines.values"
   ]
  },
  {
   "cell_type": "code",
   "execution_count": null,
   "metadata": {
    "colab": {
     "base_uri": "https://localhost:8080/"
    },
    "executionInfo": {
     "elapsed": 448,
     "status": "ok",
     "timestamp": 1724689849490,
     "user": {
      "displayName": "Jeroen Van der Mynsbrugge",
      "userId": "02667971981336359468"
     },
     "user_tz": -120
    },
    "id": "T0u5LoVkhgle",
    "outputId": "42364af0-2147-4ef3-c44d-1550269829a9"
   },
   "outputs": [],
   "source": [
    "data[data[\"Correlation\"] == 2].sample(10, random_state=42)[[\"Headlines\", \"TrendD+1\", \"SentimentLabel\"]].Headlines.values"
   ]
  },
  {
   "cell_type": "code",
   "execution_count": null,
   "metadata": {
    "colab": {
     "base_uri": "https://localhost:8080/",
     "height": 1000
    },
    "executionInfo": {
     "elapsed": 398,
     "status": "ok",
     "timestamp": 1724690662833,
     "user": {
      "displayName": "Jeroen Van der Mynsbrugge",
      "userId": "02667971981336359468"
     },
     "user_tz": -120
    },
    "id": "YpGEXf3phgiU",
    "outputId": "26856ee7-1fa3-4314-9ab7-5896d56ad461"
   },
   "outputs": [],
   "source": [
    "data[data[\"Correlation\"] == 0].sample(50, random_state=42)[[\"Headlines\", \"TrendD+1\", \"SentimentLabel\"]]"
   ]
  },
  {
   "cell_type": "code",
   "execution_count": null,
   "metadata": {
    "executionInfo": {
     "elapsed": 404,
     "status": "ok",
     "timestamp": 1724690697966,
     "user": {
      "displayName": "Jeroen Van der Mynsbrugge",
      "userId": "02667971981336359468"
     },
     "user_tz": -120
    },
    "id": "Ye_tbBCPhgeq"
   },
   "outputs": [],
   "source": [
    "sample_set = data[data[\"Correlation\"] == 0]"
   ]
  },
  {
   "cell_type": "code",
   "execution_count": null,
   "metadata": {
    "colab": {
     "base_uri": "https://localhost:8080/",
     "height": 597
    },
    "executionInfo": {
     "elapsed": 414,
     "status": "ok",
     "timestamp": 1724690726941,
     "user": {
      "displayName": "Jeroen Van der Mynsbrugge",
      "userId": "02667971981336359468"
     },
     "user_tz": -120
    },
    "id": "k6YHpJH4hgae",
    "outputId": "bef5b72f-7e43-483e-a84d-6ee3d351617e"
   },
   "outputs": [],
   "source": [
    "sample_set"
   ]
  },
  {
   "cell_type": "code",
   "execution_count": null,
   "metadata": {
    "colab": {
     "base_uri": "https://localhost:8080/",
     "height": 335
    },
    "executionInfo": {
     "elapsed": 343,
     "status": "ok",
     "timestamp": 1724693271034,
     "user": {
      "displayName": "Jeroen Van der Mynsbrugge",
      "userId": "02667971981336359468"
     },
     "user_tz": -120
    },
    "id": "DLYE50aqhgKm",
    "outputId": "11d758c4-38d6-421b-e4b3-90067c0de46f"
   },
   "outputs": [],
   "source": [
    "data[\"SentimentProb\"].describe()"
   ]
  },
  {
   "cell_type": "code",
   "execution_count": null,
   "metadata": {
    "colab": {
     "base_uri": "https://localhost:8080/",
     "height": 597
    },
    "executionInfo": {
     "elapsed": 413,
     "status": "ok",
     "timestamp": 1724693340828,
     "user": {
      "displayName": "Jeroen Van der Mynsbrugge",
      "userId": "02667971981336359468"
     },
     "user_tz": -120
    },
    "id": "iDO1_tAKeVf2",
    "outputId": "b11dad00-30fa-4e47-97d9-9347508f9bc0"
   },
   "outputs": [],
   "source": [
    "data[data[\"SentimentProb\"] < 0.9]"
   ]
  },
  {
   "cell_type": "code",
   "execution_count": null,
   "metadata": {
    "id": "vGU42fYhq7N_"
   },
   "outputs": [],
   "source": [
    "plt.figure(figsize=(10, 6))\n",
    "\n",
    "# Calculate the normalized count (proportion) for each value within each source\n",
    "df_normalized = data.groupby('Source')['Correlation'].value_counts(normalize=True).rename('Proportion').reset_index()\n",
    "\n",
    "# Plot the normalized counts\n",
    "sns.barplot(data=df_normalized, x='Correlation', y='Proportion', hue='Source')\n",
    "\n",
    "plt.title('Distribution of TrendD+1/Sentiment correlation per source')\n",
    "plt.xlabel('Value')\n",
    "plt.ylabel('Density')\n",
    "plt.show()"
   ]
  },
  {
   "cell_type": "markdown",
   "metadata": {},
   "source": [
    "### Conclusion\n",
    "\n",
    "- There is no strong correlation between headline sentiment and TrendD+1.Finetuning applied to predict headline sentiment is more likely to cause confusion rather than provide a head-start, so it is probably better to use parent model (distilbert/distilroberta-base) in model training\n",
    "  (added: confirmed by model training tests: use distilroberta-base)\n",
    "- Using sentiment scores to pre-determine relevance of individual headlines unlikely to be successful due to weak correlation (added: confirmed by model training tests: need other ways to gather more relevant headlines e.g. gather better data; use as-is for now)\n",
    "- Because increase/decrease are less likely than maintain, the classes are imbalanced (added: balancing classes did not improve accuracy in model training tests: use full dataset for now )\n",
    "- Despite lots of UK-centric headlines in Guardian dataset, correlation was not significantly different for these headlines vs. the CNBC and Reuters ones: use full dataset for now"
   ]
  },
  {
   "cell_type": "code",
   "execution_count": null,
   "metadata": {},
   "outputs": [],
   "source": []
  }
 ],
 "metadata": {
  "colab": {
   "provenance": [
    {
     "file_id": "1hplYZBsOpeFneo-G3PP8pieeeqKt9ESi",
     "timestamp": 1724512608011
    }
   ]
  },
  "kernelspec": {
   "display_name": "Python 3 (ipykernel)",
   "language": "python",
   "name": "python3"
  },
  "language_info": {
   "codemirror_mode": {
    "name": "ipython",
    "version": 3
   },
   "file_extension": ".py",
   "mimetype": "text/x-python",
   "name": "python",
   "nbconvert_exporter": "python",
   "pygments_lexer": "ipython3",
   "version": "3.12.2"
  },
  "widgets": {
   "application/vnd.jupyter.widget-state+json": {
    "030e1389e6554ab7b741613f9f792238": {
     "model_module": "@jupyter-widgets/base",
     "model_module_version": "1.2.0",
     "model_name": "LayoutModel",
     "state": {
      "_model_module": "@jupyter-widgets/base",
      "_model_module_version": "1.2.0",
      "_model_name": "LayoutModel",
      "_view_count": null,
      "_view_module": "@jupyter-widgets/base",
      "_view_module_version": "1.2.0",
      "_view_name": "LayoutView",
      "align_content": null,
      "align_items": null,
      "align_self": null,
      "border": null,
      "bottom": null,
      "display": null,
      "flex": null,
      "flex_flow": null,
      "grid_area": null,
      "grid_auto_columns": null,
      "grid_auto_flow": null,
      "grid_auto_rows": null,
      "grid_column": null,
      "grid_gap": null,
      "grid_row": null,
      "grid_template_areas": null,
      "grid_template_columns": null,
      "grid_template_rows": null,
      "height": null,
      "justify_content": null,
      "justify_items": null,
      "left": null,
      "margin": null,
      "max_height": null,
      "max_width": null,
      "min_height": null,
      "min_width": null,
      "object_fit": null,
      "object_position": null,
      "order": null,
      "overflow": null,
      "overflow_x": null,
      "overflow_y": null,
      "padding": null,
      "right": null,
      "top": null,
      "visibility": null,
      "width": null
     }
    },
    "0416ff6d2836456b977110659dd7b4a9": {
     "model_module": "@jupyter-widgets/controls",
     "model_module_version": "1.5.0",
     "model_name": "HTMLModel",
     "state": {
      "_dom_classes": [],
      "_model_module": "@jupyter-widgets/controls",
      "_model_module_version": "1.5.0",
      "_model_name": "HTMLModel",
      "_view_count": null,
      "_view_module": "@jupyter-widgets/controls",
      "_view_module_version": "1.5.0",
      "_view_name": "HTMLView",
      "description": "",
      "description_tooltip": null,
      "layout": "IPY_MODEL_a7abc5e61d88480789a999a301ff754f",
      "placeholder": "​",
      "style": "IPY_MODEL_10fff41f09ac4a1daa2a3f108ff77663",
      "value": " 53330/53330 [00:54&lt;00:00, 1093.54 examples/s]"
     }
    },
    "045a07208793444fb415609dcfed377f": {
     "model_module": "@jupyter-widgets/controls",
     "model_module_version": "1.5.0",
     "model_name": "DescriptionStyleModel",
     "state": {
      "_model_module": "@jupyter-widgets/controls",
      "_model_module_version": "1.5.0",
      "_model_name": "DescriptionStyleModel",
      "_view_count": null,
      "_view_module": "@jupyter-widgets/base",
      "_view_module_version": "1.2.0",
      "_view_name": "StyleView",
      "description_width": ""
     }
    },
    "04ec571e647043c7b3222445c2d8f536": {
     "model_module": "@jupyter-widgets/base",
     "model_module_version": "1.2.0",
     "model_name": "LayoutModel",
     "state": {
      "_model_module": "@jupyter-widgets/base",
      "_model_module_version": "1.2.0",
      "_model_name": "LayoutModel",
      "_view_count": null,
      "_view_module": "@jupyter-widgets/base",
      "_view_module_version": "1.2.0",
      "_view_name": "LayoutView",
      "align_content": null,
      "align_items": null,
      "align_self": null,
      "border": null,
      "bottom": null,
      "display": null,
      "flex": null,
      "flex_flow": null,
      "grid_area": null,
      "grid_auto_columns": null,
      "grid_auto_flow": null,
      "grid_auto_rows": null,
      "grid_column": null,
      "grid_gap": null,
      "grid_row": null,
      "grid_template_areas": null,
      "grid_template_columns": null,
      "grid_template_rows": null,
      "height": null,
      "justify_content": null,
      "justify_items": null,
      "left": null,
      "margin": null,
      "max_height": null,
      "max_width": null,
      "min_height": null,
      "min_width": null,
      "object_fit": null,
      "object_position": null,
      "order": null,
      "overflow": null,
      "overflow_x": null,
      "overflow_y": null,
      "padding": null,
      "right": null,
      "top": null,
      "visibility": null,
      "width": null
     }
    },
    "05be0afcbab14ef7b8bf2feac15485f7": {
     "model_module": "@jupyter-widgets/controls",
     "model_module_version": "1.5.0",
     "model_name": "ProgressStyleModel",
     "state": {
      "_model_module": "@jupyter-widgets/controls",
      "_model_module_version": "1.5.0",
      "_model_name": "ProgressStyleModel",
      "_view_count": null,
      "_view_module": "@jupyter-widgets/base",
      "_view_module_version": "1.2.0",
      "_view_name": "StyleView",
      "bar_color": null,
      "description_width": ""
     }
    },
    "06b8d3820b944d368ec82699df6b19c9": {
     "model_module": "@jupyter-widgets/base",
     "model_module_version": "1.2.0",
     "model_name": "LayoutModel",
     "state": {
      "_model_module": "@jupyter-widgets/base",
      "_model_module_version": "1.2.0",
      "_model_name": "LayoutModel",
      "_view_count": null,
      "_view_module": "@jupyter-widgets/base",
      "_view_module_version": "1.2.0",
      "_view_name": "LayoutView",
      "align_content": null,
      "align_items": null,
      "align_self": null,
      "border": null,
      "bottom": null,
      "display": null,
      "flex": null,
      "flex_flow": null,
      "grid_area": null,
      "grid_auto_columns": null,
      "grid_auto_flow": null,
      "grid_auto_rows": null,
      "grid_column": null,
      "grid_gap": null,
      "grid_row": null,
      "grid_template_areas": null,
      "grid_template_columns": null,
      "grid_template_rows": null,
      "height": null,
      "justify_content": null,
      "justify_items": null,
      "left": null,
      "margin": null,
      "max_height": null,
      "max_width": null,
      "min_height": null,
      "min_width": null,
      "object_fit": null,
      "object_position": null,
      "order": null,
      "overflow": null,
      "overflow_x": null,
      "overflow_y": null,
      "padding": null,
      "right": null,
      "top": null,
      "visibility": null,
      "width": null
     }
    },
    "09499c6dfedb48259a2a5ee485ad1eba": {
     "model_module": "@jupyter-widgets/controls",
     "model_module_version": "1.5.0",
     "model_name": "DescriptionStyleModel",
     "state": {
      "_model_module": "@jupyter-widgets/controls",
      "_model_module_version": "1.5.0",
      "_model_name": "DescriptionStyleModel",
      "_view_count": null,
      "_view_module": "@jupyter-widgets/base",
      "_view_module_version": "1.2.0",
      "_view_name": "StyleView",
      "description_width": ""
     }
    },
    "0be3b70ac7d042849d0146cbe0997ebf": {
     "model_module": "@jupyter-widgets/base",
     "model_module_version": "1.2.0",
     "model_name": "LayoutModel",
     "state": {
      "_model_module": "@jupyter-widgets/base",
      "_model_module_version": "1.2.0",
      "_model_name": "LayoutModel",
      "_view_count": null,
      "_view_module": "@jupyter-widgets/base",
      "_view_module_version": "1.2.0",
      "_view_name": "LayoutView",
      "align_content": null,
      "align_items": null,
      "align_self": null,
      "border": null,
      "bottom": null,
      "display": null,
      "flex": null,
      "flex_flow": null,
      "grid_area": null,
      "grid_auto_columns": null,
      "grid_auto_flow": null,
      "grid_auto_rows": null,
      "grid_column": null,
      "grid_gap": null,
      "grid_row": null,
      "grid_template_areas": null,
      "grid_template_columns": null,
      "grid_template_rows": null,
      "height": null,
      "justify_content": null,
      "justify_items": null,
      "left": null,
      "margin": null,
      "max_height": null,
      "max_width": null,
      "min_height": null,
      "min_width": null,
      "object_fit": null,
      "object_position": null,
      "order": null,
      "overflow": null,
      "overflow_x": null,
      "overflow_y": null,
      "padding": null,
      "right": null,
      "top": null,
      "visibility": null,
      "width": null
     }
    },
    "0e0d773d56464693b5e64fdeb48778fa": {
     "model_module": "@jupyter-widgets/controls",
     "model_module_version": "1.5.0",
     "model_name": "FloatProgressModel",
     "state": {
      "_dom_classes": [],
      "_model_module": "@jupyter-widgets/controls",
      "_model_module_version": "1.5.0",
      "_model_name": "FloatProgressModel",
      "_view_count": null,
      "_view_module": "@jupyter-widgets/controls",
      "_view_module_version": "1.5.0",
      "_view_name": "ProgressView",
      "bar_style": "success",
      "description": "",
      "description_tooltip": null,
      "layout": "IPY_MODEL_1e9af1afcf674e7dbd65abcf42f90485",
      "max": 1355932,
      "min": 0,
      "orientation": "horizontal",
      "style": "IPY_MODEL_c3a03a311ae84eb7bb997525cfeca920",
      "value": 1355932
     }
    },
    "106805ee758140ef9964518f4b43fa98": {
     "model_module": "@jupyter-widgets/controls",
     "model_module_version": "1.5.0",
     "model_name": "ProgressStyleModel",
     "state": {
      "_model_module": "@jupyter-widgets/controls",
      "_model_module_version": "1.5.0",
      "_model_name": "ProgressStyleModel",
      "_view_count": null,
      "_view_module": "@jupyter-widgets/base",
      "_view_module_version": "1.2.0",
      "_view_name": "StyleView",
      "bar_color": null,
      "description_width": ""
     }
    },
    "10fff41f09ac4a1daa2a3f108ff77663": {
     "model_module": "@jupyter-widgets/controls",
     "model_module_version": "1.5.0",
     "model_name": "DescriptionStyleModel",
     "state": {
      "_model_module": "@jupyter-widgets/controls",
      "_model_module_version": "1.5.0",
      "_model_name": "DescriptionStyleModel",
      "_view_count": null,
      "_view_module": "@jupyter-widgets/base",
      "_view_module_version": "1.2.0",
      "_view_name": "StyleView",
      "description_width": ""
     }
    },
    "1653fd4febbf4c97a61fa203912d8073": {
     "model_module": "@jupyter-widgets/controls",
     "model_module_version": "1.5.0",
     "model_name": "HTMLModel",
     "state": {
      "_dom_classes": [],
      "_model_module": "@jupyter-widgets/controls",
      "_model_module_version": "1.5.0",
      "_model_name": "HTMLModel",
      "_view_count": null,
      "_view_module": "@jupyter-widgets/controls",
      "_view_module_version": "1.5.0",
      "_view_name": "HTMLView",
      "description": "",
      "description_tooltip": null,
      "layout": "IPY_MODEL_1b0edfad53624cfc8874ed8c94484043",
      "placeholder": "​",
      "style": "IPY_MODEL_09499c6dfedb48259a2a5ee485ad1eba",
      "value": "Map: 100%"
     }
    },
    "1803b1202d4d40b6ab064680776b46a8": {
     "model_module": "@jupyter-widgets/controls",
     "model_module_version": "1.5.0",
     "model_name": "HTMLModel",
     "state": {
      "_dom_classes": [],
      "_model_module": "@jupyter-widgets/controls",
      "_model_module_version": "1.5.0",
      "_model_name": "HTMLModel",
      "_view_count": null,
      "_view_module": "@jupyter-widgets/controls",
      "_view_module_version": "1.5.0",
      "_view_name": "HTMLView",
      "description": "",
      "description_tooltip": null,
      "layout": "IPY_MODEL_55253033ac6b44949f7d7e590a90be06",
      "placeholder": "​",
      "style": "IPY_MODEL_59582ca7daba491598856b8765f4cba0",
      "value": "tokenizer.json: 100%"
     }
    },
    "1b0edfad53624cfc8874ed8c94484043": {
     "model_module": "@jupyter-widgets/base",
     "model_module_version": "1.2.0",
     "model_name": "LayoutModel",
     "state": {
      "_model_module": "@jupyter-widgets/base",
      "_model_module_version": "1.2.0",
      "_model_name": "LayoutModel",
      "_view_count": null,
      "_view_module": "@jupyter-widgets/base",
      "_view_module_version": "1.2.0",
      "_view_name": "LayoutView",
      "align_content": null,
      "align_items": null,
      "align_self": null,
      "border": null,
      "bottom": null,
      "display": null,
      "flex": null,
      "flex_flow": null,
      "grid_area": null,
      "grid_auto_columns": null,
      "grid_auto_flow": null,
      "grid_auto_rows": null,
      "grid_column": null,
      "grid_gap": null,
      "grid_row": null,
      "grid_template_areas": null,
      "grid_template_columns": null,
      "grid_template_rows": null,
      "height": null,
      "justify_content": null,
      "justify_items": null,
      "left": null,
      "margin": null,
      "max_height": null,
      "max_width": null,
      "min_height": null,
      "min_width": null,
      "object_fit": null,
      "object_position": null,
      "order": null,
      "overflow": null,
      "overflow_x": null,
      "overflow_y": null,
      "padding": null,
      "right": null,
      "top": null,
      "visibility": null,
      "width": null
     }
    },
    "1e771d05872e42c591c0b19c1e770375": {
     "model_module": "@jupyter-widgets/controls",
     "model_module_version": "1.5.0",
     "model_name": "ProgressStyleModel",
     "state": {
      "_model_module": "@jupyter-widgets/controls",
      "_model_module_version": "1.5.0",
      "_model_name": "ProgressStyleModel",
      "_view_count": null,
      "_view_module": "@jupyter-widgets/base",
      "_view_module_version": "1.2.0",
      "_view_name": "StyleView",
      "bar_color": null,
      "description_width": ""
     }
    },
    "1e9af1afcf674e7dbd65abcf42f90485": {
     "model_module": "@jupyter-widgets/base",
     "model_module_version": "1.2.0",
     "model_name": "LayoutModel",
     "state": {
      "_model_module": "@jupyter-widgets/base",
      "_model_module_version": "1.2.0",
      "_model_name": "LayoutModel",
      "_view_count": null,
      "_view_module": "@jupyter-widgets/base",
      "_view_module_version": "1.2.0",
      "_view_name": "LayoutView",
      "align_content": null,
      "align_items": null,
      "align_self": null,
      "border": null,
      "bottom": null,
      "display": null,
      "flex": null,
      "flex_flow": null,
      "grid_area": null,
      "grid_auto_columns": null,
      "grid_auto_flow": null,
      "grid_auto_rows": null,
      "grid_column": null,
      "grid_gap": null,
      "grid_row": null,
      "grid_template_areas": null,
      "grid_template_columns": null,
      "grid_template_rows": null,
      "height": null,
      "justify_content": null,
      "justify_items": null,
      "left": null,
      "margin": null,
      "max_height": null,
      "max_width": null,
      "min_height": null,
      "min_width": null,
      "object_fit": null,
      "object_position": null,
      "order": null,
      "overflow": null,
      "overflow_x": null,
      "overflow_y": null,
      "padding": null,
      "right": null,
      "top": null,
      "visibility": null,
      "width": null
     }
    },
    "2b908353e89e4b1fadfd6d3cef172dc5": {
     "model_module": "@jupyter-widgets/controls",
     "model_module_version": "1.5.0",
     "model_name": "DescriptionStyleModel",
     "state": {
      "_model_module": "@jupyter-widgets/controls",
      "_model_module_version": "1.5.0",
      "_model_name": "DescriptionStyleModel",
      "_view_count": null,
      "_view_module": "@jupyter-widgets/base",
      "_view_module_version": "1.2.0",
      "_view_name": "StyleView",
      "description_width": ""
     }
    },
    "2ba71cca5027464890f248a27a41ff56": {
     "model_module": "@jupyter-widgets/controls",
     "model_module_version": "1.5.0",
     "model_name": "ProgressStyleModel",
     "state": {
      "_model_module": "@jupyter-widgets/controls",
      "_model_module_version": "1.5.0",
      "_model_name": "ProgressStyleModel",
      "_view_count": null,
      "_view_module": "@jupyter-widgets/base",
      "_view_module_version": "1.2.0",
      "_view_name": "StyleView",
      "bar_color": null,
      "description_width": ""
     }
    },
    "2ca17de0421d44a8be61d108ca0d68b8": {
     "model_module": "@jupyter-widgets/controls",
     "model_module_version": "1.5.0",
     "model_name": "ProgressStyleModel",
     "state": {
      "_model_module": "@jupyter-widgets/controls",
      "_model_module_version": "1.5.0",
      "_model_name": "ProgressStyleModel",
      "_view_count": null,
      "_view_module": "@jupyter-widgets/base",
      "_view_module_version": "1.2.0",
      "_view_name": "StyleView",
      "bar_color": null,
      "description_width": ""
     }
    },
    "313bfa71c326480d8023e10eeda25177": {
     "model_module": "@jupyter-widgets/controls",
     "model_module_version": "1.5.0",
     "model_name": "FloatProgressModel",
     "state": {
      "_dom_classes": [],
      "_model_module": "@jupyter-widgets/controls",
      "_model_module_version": "1.5.0",
      "_model_name": "FloatProgressModel",
      "_view_count": null,
      "_view_module": "@jupyter-widgets/controls",
      "_view_module_version": "1.5.0",
      "_view_name": "ProgressView",
      "bar_style": "success",
      "description": "",
      "description_tooltip": null,
      "layout": "IPY_MODEL_d34c1c6ae1a94cfa8e8a9793625abe3e",
      "max": 456356,
      "min": 0,
      "orientation": "horizontal",
      "style": "IPY_MODEL_3543b511a7f74898a06ebff34b6d7dbb",
      "value": 456356
     }
    },
    "31de0753b19143c2829099e7bc18c042": {
     "model_module": "@jupyter-widgets/controls",
     "model_module_version": "1.5.0",
     "model_name": "HTMLModel",
     "state": {
      "_dom_classes": [],
      "_model_module": "@jupyter-widgets/controls",
      "_model_module_version": "1.5.0",
      "_model_name": "HTMLModel",
      "_view_count": null,
      "_view_module": "@jupyter-widgets/controls",
      "_view_module_version": "1.5.0",
      "_view_name": "HTMLView",
      "description": "",
      "description_tooltip": null,
      "layout": "IPY_MODEL_030e1389e6554ab7b741613f9f792238",
      "placeholder": "​",
      "style": "IPY_MODEL_7b859613d81b406f81052906b517d60c",
      "value": " 456k/456k [00:00&lt;00:00, 3.53MB/s]"
     }
    },
    "3543b511a7f74898a06ebff34b6d7dbb": {
     "model_module": "@jupyter-widgets/controls",
     "model_module_version": "1.5.0",
     "model_name": "ProgressStyleModel",
     "state": {
      "_model_module": "@jupyter-widgets/controls",
      "_model_module_version": "1.5.0",
      "_model_name": "ProgressStyleModel",
      "_view_count": null,
      "_view_module": "@jupyter-widgets/base",
      "_view_module_version": "1.2.0",
      "_view_name": "StyleView",
      "bar_color": null,
      "description_width": ""
     }
    },
    "36af15a7fecd4bd0b659dcf18ba46cbe": {
     "model_module": "@jupyter-widgets/base",
     "model_module_version": "1.2.0",
     "model_name": "LayoutModel",
     "state": {
      "_model_module": "@jupyter-widgets/base",
      "_model_module_version": "1.2.0",
      "_model_name": "LayoutModel",
      "_view_count": null,
      "_view_module": "@jupyter-widgets/base",
      "_view_module_version": "1.2.0",
      "_view_name": "LayoutView",
      "align_content": null,
      "align_items": null,
      "align_self": null,
      "border": null,
      "bottom": null,
      "display": null,
      "flex": null,
      "flex_flow": null,
      "grid_area": null,
      "grid_auto_columns": null,
      "grid_auto_flow": null,
      "grid_auto_rows": null,
      "grid_column": null,
      "grid_gap": null,
      "grid_row": null,
      "grid_template_areas": null,
      "grid_template_columns": null,
      "grid_template_rows": null,
      "height": null,
      "justify_content": null,
      "justify_items": null,
      "left": null,
      "margin": null,
      "max_height": null,
      "max_width": null,
      "min_height": null,
      "min_width": null,
      "object_fit": null,
      "object_position": null,
      "order": null,
      "overflow": null,
      "overflow_x": null,
      "overflow_y": null,
      "padding": null,
      "right": null,
      "top": null,
      "visibility": null,
      "width": null
     }
    },
    "38ca8a77f5494e4c8a7ca90465eff518": {
     "model_module": "@jupyter-widgets/controls",
     "model_module_version": "1.5.0",
     "model_name": "DescriptionStyleModel",
     "state": {
      "_model_module": "@jupyter-widgets/controls",
      "_model_module_version": "1.5.0",
      "_model_name": "DescriptionStyleModel",
      "_view_count": null,
      "_view_module": "@jupyter-widgets/base",
      "_view_module_version": "1.2.0",
      "_view_name": "StyleView",
      "description_width": ""
     }
    },
    "3ba3a3c0152f4d8d8b1294a1bc671cea": {
     "model_module": "@jupyter-widgets/base",
     "model_module_version": "1.2.0",
     "model_name": "LayoutModel",
     "state": {
      "_model_module": "@jupyter-widgets/base",
      "_model_module_version": "1.2.0",
      "_model_name": "LayoutModel",
      "_view_count": null,
      "_view_module": "@jupyter-widgets/base",
      "_view_module_version": "1.2.0",
      "_view_name": "LayoutView",
      "align_content": null,
      "align_items": null,
      "align_self": null,
      "border": null,
      "bottom": null,
      "display": null,
      "flex": null,
      "flex_flow": null,
      "grid_area": null,
      "grid_auto_columns": null,
      "grid_auto_flow": null,
      "grid_auto_rows": null,
      "grid_column": null,
      "grid_gap": null,
      "grid_row": null,
      "grid_template_areas": null,
      "grid_template_columns": null,
      "grid_template_rows": null,
      "height": null,
      "justify_content": null,
      "justify_items": null,
      "left": null,
      "margin": null,
      "max_height": null,
      "max_width": null,
      "min_height": null,
      "min_width": null,
      "object_fit": null,
      "object_position": null,
      "order": null,
      "overflow": null,
      "overflow_x": null,
      "overflow_y": null,
      "padding": null,
      "right": null,
      "top": null,
      "visibility": null,
      "width": null
     }
    },
    "3edbadcc9613471a84431e9b99d59f14": {
     "model_module": "@jupyter-widgets/controls",
     "model_module_version": "1.5.0",
     "model_name": "HBoxModel",
     "state": {
      "_dom_classes": [],
      "_model_module": "@jupyter-widgets/controls",
      "_model_module_version": "1.5.0",
      "_model_name": "HBoxModel",
      "_view_count": null,
      "_view_module": "@jupyter-widgets/controls",
      "_view_module_version": "1.5.0",
      "_view_name": "HBoxView",
      "box_style": "",
      "children": [
       "IPY_MODEL_1653fd4febbf4c97a61fa203912d8073",
       "IPY_MODEL_96dc3ad97c2d45078e46a67d13eebbdf",
       "IPY_MODEL_0416ff6d2836456b977110659dd7b4a9"
      ],
      "layout": "IPY_MODEL_ac6408403da24cdcaaa9a9bbc12d6c53"
     }
    },
    "4278996454fb420ea5fd6234fe094f83": {
     "model_module": "@jupyter-widgets/controls",
     "model_module_version": "1.5.0",
     "model_name": "FloatProgressModel",
     "state": {
      "_dom_classes": [],
      "_model_module": "@jupyter-widgets/controls",
      "_model_module_version": "1.5.0",
      "_model_name": "FloatProgressModel",
      "_view_count": null,
      "_view_module": "@jupyter-widgets/controls",
      "_view_module_version": "1.5.0",
      "_view_name": "ProgressView",
      "bar_style": "success",
      "description": "",
      "description_tooltip": null,
      "layout": "IPY_MODEL_3ba3a3c0152f4d8d8b1294a1bc671cea",
      "max": 328499560,
      "min": 0,
      "orientation": "horizontal",
      "style": "IPY_MODEL_05be0afcbab14ef7b8bf2feac15485f7",
      "value": 328499560
     }
    },
    "43b43403084e458794c12b3d33a7c044": {
     "model_module": "@jupyter-widgets/base",
     "model_module_version": "1.2.0",
     "model_name": "LayoutModel",
     "state": {
      "_model_module": "@jupyter-widgets/base",
      "_model_module_version": "1.2.0",
      "_model_name": "LayoutModel",
      "_view_count": null,
      "_view_module": "@jupyter-widgets/base",
      "_view_module_version": "1.2.0",
      "_view_name": "LayoutView",
      "align_content": null,
      "align_items": null,
      "align_self": null,
      "border": null,
      "bottom": null,
      "display": null,
      "flex": null,
      "flex_flow": null,
      "grid_area": null,
      "grid_auto_columns": null,
      "grid_auto_flow": null,
      "grid_auto_rows": null,
      "grid_column": null,
      "grid_gap": null,
      "grid_row": null,
      "grid_template_areas": null,
      "grid_template_columns": null,
      "grid_template_rows": null,
      "height": null,
      "justify_content": null,
      "justify_items": null,
      "left": null,
      "margin": null,
      "max_height": null,
      "max_width": null,
      "min_height": null,
      "min_width": null,
      "object_fit": null,
      "object_position": null,
      "order": null,
      "overflow": null,
      "overflow_x": null,
      "overflow_y": null,
      "padding": null,
      "right": null,
      "top": null,
      "visibility": null,
      "width": null
     }
    },
    "46e248a5a67f48608d685eee8c4e8397": {
     "model_module": "@jupyter-widgets/base",
     "model_module_version": "1.2.0",
     "model_name": "LayoutModel",
     "state": {
      "_model_module": "@jupyter-widgets/base",
      "_model_module_version": "1.2.0",
      "_model_name": "LayoutModel",
      "_view_count": null,
      "_view_module": "@jupyter-widgets/base",
      "_view_module_version": "1.2.0",
      "_view_name": "LayoutView",
      "align_content": null,
      "align_items": null,
      "align_self": null,
      "border": null,
      "bottom": null,
      "display": null,
      "flex": null,
      "flex_flow": null,
      "grid_area": null,
      "grid_auto_columns": null,
      "grid_auto_flow": null,
      "grid_auto_rows": null,
      "grid_column": null,
      "grid_gap": null,
      "grid_row": null,
      "grid_template_areas": null,
      "grid_template_columns": null,
      "grid_template_rows": null,
      "height": null,
      "justify_content": null,
      "justify_items": null,
      "left": null,
      "margin": null,
      "max_height": null,
      "max_width": null,
      "min_height": null,
      "min_width": null,
      "object_fit": null,
      "object_position": null,
      "order": null,
      "overflow": null,
      "overflow_x": null,
      "overflow_y": null,
      "padding": null,
      "right": null,
      "top": null,
      "visibility": null,
      "width": null
     }
    },
    "49a6d3e3f8ea40fe97fe6afb1fb03ff0": {
     "model_module": "@jupyter-widgets/controls",
     "model_module_version": "1.5.0",
     "model_name": "HTMLModel",
     "state": {
      "_dom_classes": [],
      "_model_module": "@jupyter-widgets/controls",
      "_model_module_version": "1.5.0",
      "_model_name": "HTMLModel",
      "_view_count": null,
      "_view_module": "@jupyter-widgets/controls",
      "_view_module_version": "1.5.0",
      "_view_name": "HTMLView",
      "description": "",
      "description_tooltip": null,
      "layout": "IPY_MODEL_0be3b70ac7d042849d0146cbe0997ebf",
      "placeholder": "​",
      "style": "IPY_MODEL_9214f8cb409940d78dabf4b092d6a4e0",
      "value": "vocab.json: 100%"
     }
    },
    "4e48111d9b32429bb51c3b2d04db2ead": {
     "model_module": "@jupyter-widgets/base",
     "model_module_version": "1.2.0",
     "model_name": "LayoutModel",
     "state": {
      "_model_module": "@jupyter-widgets/base",
      "_model_module_version": "1.2.0",
      "_model_name": "LayoutModel",
      "_view_count": null,
      "_view_module": "@jupyter-widgets/base",
      "_view_module_version": "1.2.0",
      "_view_name": "LayoutView",
      "align_content": null,
      "align_items": null,
      "align_self": null,
      "border": null,
      "bottom": null,
      "display": null,
      "flex": null,
      "flex_flow": null,
      "grid_area": null,
      "grid_auto_columns": null,
      "grid_auto_flow": null,
      "grid_auto_rows": null,
      "grid_column": null,
      "grid_gap": null,
      "grid_row": null,
      "grid_template_areas": null,
      "grid_template_columns": null,
      "grid_template_rows": null,
      "height": null,
      "justify_content": null,
      "justify_items": null,
      "left": null,
      "margin": null,
      "max_height": null,
      "max_width": null,
      "min_height": null,
      "min_width": null,
      "object_fit": null,
      "object_position": null,
      "order": null,
      "overflow": null,
      "overflow_x": null,
      "overflow_y": null,
      "padding": null,
      "right": null,
      "top": null,
      "visibility": null,
      "width": null
     }
    },
    "51259b502db04134a91ee03c4fc0e109": {
     "model_module": "@jupyter-widgets/controls",
     "model_module_version": "1.5.0",
     "model_name": "HTMLModel",
     "state": {
      "_dom_classes": [],
      "_model_module": "@jupyter-widgets/controls",
      "_model_module_version": "1.5.0",
      "_model_name": "HTMLModel",
      "_view_count": null,
      "_view_module": "@jupyter-widgets/controls",
      "_view_module_version": "1.5.0",
      "_view_name": "HTMLView",
      "description": "",
      "description_tooltip": null,
      "layout": "IPY_MODEL_91196eef30f64afc9ffe562d91907047",
      "placeholder": "​",
      "style": "IPY_MODEL_c0740d1aa7894ef7a7f8daf3d93d7f40",
      "value": " 1.36M/1.36M [00:00&lt;00:00, 6.79MB/s]"
     }
    },
    "547a54f4088542c18007c6f328212490": {
     "model_module": "@jupyter-widgets/controls",
     "model_module_version": "1.5.0",
     "model_name": "DescriptionStyleModel",
     "state": {
      "_model_module": "@jupyter-widgets/controls",
      "_model_module_version": "1.5.0",
      "_model_name": "DescriptionStyleModel",
      "_view_count": null,
      "_view_module": "@jupyter-widgets/base",
      "_view_module_version": "1.2.0",
      "_view_name": "StyleView",
      "description_width": ""
     }
    },
    "55253033ac6b44949f7d7e590a90be06": {
     "model_module": "@jupyter-widgets/base",
     "model_module_version": "1.2.0",
     "model_name": "LayoutModel",
     "state": {
      "_model_module": "@jupyter-widgets/base",
      "_model_module_version": "1.2.0",
      "_model_name": "LayoutModel",
      "_view_count": null,
      "_view_module": "@jupyter-widgets/base",
      "_view_module_version": "1.2.0",
      "_view_name": "LayoutView",
      "align_content": null,
      "align_items": null,
      "align_self": null,
      "border": null,
      "bottom": null,
      "display": null,
      "flex": null,
      "flex_flow": null,
      "grid_area": null,
      "grid_auto_columns": null,
      "grid_auto_flow": null,
      "grid_auto_rows": null,
      "grid_column": null,
      "grid_gap": null,
      "grid_row": null,
      "grid_template_areas": null,
      "grid_template_columns": null,
      "grid_template_rows": null,
      "height": null,
      "justify_content": null,
      "justify_items": null,
      "left": null,
      "margin": null,
      "max_height": null,
      "max_width": null,
      "min_height": null,
      "min_width": null,
      "object_fit": null,
      "object_position": null,
      "order": null,
      "overflow": null,
      "overflow_x": null,
      "overflow_y": null,
      "padding": null,
      "right": null,
      "top": null,
      "visibility": null,
      "width": null
     }
    },
    "570e253001ac4b9e8a504dcf4f203986": {
     "model_module": "@jupyter-widgets/controls",
     "model_module_version": "1.5.0",
     "model_name": "FloatProgressModel",
     "state": {
      "_dom_classes": [],
      "_model_module": "@jupyter-widgets/controls",
      "_model_module_version": "1.5.0",
      "_model_name": "FloatProgressModel",
      "_view_count": null,
      "_view_module": "@jupyter-widgets/controls",
      "_view_module_version": "1.5.0",
      "_view_name": "ProgressView",
      "bar_style": "success",
      "description": "",
      "description_tooltip": null,
      "layout": "IPY_MODEL_84dc9d4b5937454a8935463314b167f3",
      "max": 333,
      "min": 0,
      "orientation": "horizontal",
      "style": "IPY_MODEL_2ca17de0421d44a8be61d108ca0d68b8",
      "value": 333
     }
    },
    "576fa48ddaf54742bf955a6141aa1300": {
     "model_module": "@jupyter-widgets/controls",
     "model_module_version": "1.5.0",
     "model_name": "HTMLModel",
     "state": {
      "_dom_classes": [],
      "_model_module": "@jupyter-widgets/controls",
      "_model_module_version": "1.5.0",
      "_model_name": "HTMLModel",
      "_view_count": null,
      "_view_module": "@jupyter-widgets/controls",
      "_view_module_version": "1.5.0",
      "_view_name": "HTMLView",
      "description": "",
      "description_tooltip": null,
      "layout": "IPY_MODEL_cc2f253673a54444950f8f6cee45ebd9",
      "placeholder": "​",
      "style": "IPY_MODEL_2b908353e89e4b1fadfd6d3cef172dc5",
      "value": "config.json: 100%"
     }
    },
    "579d0af9d7d34869a158ecc25e15ad5b": {
     "model_module": "@jupyter-widgets/base",
     "model_module_version": "1.2.0",
     "model_name": "LayoutModel",
     "state": {
      "_model_module": "@jupyter-widgets/base",
      "_model_module_version": "1.2.0",
      "_model_name": "LayoutModel",
      "_view_count": null,
      "_view_module": "@jupyter-widgets/base",
      "_view_module_version": "1.2.0",
      "_view_name": "LayoutView",
      "align_content": null,
      "align_items": null,
      "align_self": null,
      "border": null,
      "bottom": null,
      "display": null,
      "flex": null,
      "flex_flow": null,
      "grid_area": null,
      "grid_auto_columns": null,
      "grid_auto_flow": null,
      "grid_auto_rows": null,
      "grid_column": null,
      "grid_gap": null,
      "grid_row": null,
      "grid_template_areas": null,
      "grid_template_columns": null,
      "grid_template_rows": null,
      "height": null,
      "justify_content": null,
      "justify_items": null,
      "left": null,
      "margin": null,
      "max_height": null,
      "max_width": null,
      "min_height": null,
      "min_width": null,
      "object_fit": null,
      "object_position": null,
      "order": null,
      "overflow": null,
      "overflow_x": null,
      "overflow_y": null,
      "padding": null,
      "right": null,
      "top": null,
      "visibility": null,
      "width": null
     }
    },
    "59582ca7daba491598856b8765f4cba0": {
     "model_module": "@jupyter-widgets/controls",
     "model_module_version": "1.5.0",
     "model_name": "DescriptionStyleModel",
     "state": {
      "_model_module": "@jupyter-widgets/controls",
      "_model_module_version": "1.5.0",
      "_model_name": "DescriptionStyleModel",
      "_view_count": null,
      "_view_module": "@jupyter-widgets/base",
      "_view_module_version": "1.2.0",
      "_view_name": "StyleView",
      "description_width": ""
     }
    },
    "5fd5df28e825495eb2e73872ef606711": {
     "model_module": "@jupyter-widgets/base",
     "model_module_version": "1.2.0",
     "model_name": "LayoutModel",
     "state": {
      "_model_module": "@jupyter-widgets/base",
      "_model_module_version": "1.2.0",
      "_model_name": "LayoutModel",
      "_view_count": null,
      "_view_module": "@jupyter-widgets/base",
      "_view_module_version": "1.2.0",
      "_view_name": "LayoutView",
      "align_content": null,
      "align_items": null,
      "align_self": null,
      "border": null,
      "bottom": null,
      "display": null,
      "flex": null,
      "flex_flow": null,
      "grid_area": null,
      "grid_auto_columns": null,
      "grid_auto_flow": null,
      "grid_auto_rows": null,
      "grid_column": null,
      "grid_gap": null,
      "grid_row": null,
      "grid_template_areas": null,
      "grid_template_columns": null,
      "grid_template_rows": null,
      "height": null,
      "justify_content": null,
      "justify_items": null,
      "left": null,
      "margin": null,
      "max_height": null,
      "max_width": null,
      "min_height": null,
      "min_width": null,
      "object_fit": null,
      "object_position": null,
      "order": null,
      "overflow": null,
      "overflow_x": null,
      "overflow_y": null,
      "padding": null,
      "right": null,
      "top": null,
      "visibility": null,
      "width": null
     }
    },
    "61531c77e2314e9d8f2cbe411657a40a": {
     "model_module": "@jupyter-widgets/controls",
     "model_module_version": "1.5.0",
     "model_name": "HBoxModel",
     "state": {
      "_dom_classes": [],
      "_model_module": "@jupyter-widgets/controls",
      "_model_module_version": "1.5.0",
      "_model_name": "HBoxModel",
      "_view_count": null,
      "_view_module": "@jupyter-widgets/controls",
      "_view_module_version": "1.5.0",
      "_view_name": "HBoxView",
      "box_style": "",
      "children": [
       "IPY_MODEL_97a2b78130e04682ac75876de14b0b9a",
       "IPY_MODEL_313bfa71c326480d8023e10eeda25177",
       "IPY_MODEL_31de0753b19143c2829099e7bc18c042"
      ],
      "layout": "IPY_MODEL_ef6949c06b584e3b8891e9bfc9c814b8"
     }
    },
    "6ee15a01f81f49028e02c81202ecbd6e": {
     "model_module": "@jupyter-widgets/base",
     "model_module_version": "1.2.0",
     "model_name": "LayoutModel",
     "state": {
      "_model_module": "@jupyter-widgets/base",
      "_model_module_version": "1.2.0",
      "_model_name": "LayoutModel",
      "_view_count": null,
      "_view_module": "@jupyter-widgets/base",
      "_view_module_version": "1.2.0",
      "_view_name": "LayoutView",
      "align_content": null,
      "align_items": null,
      "align_self": null,
      "border": null,
      "bottom": null,
      "display": null,
      "flex": null,
      "flex_flow": null,
      "grid_area": null,
      "grid_auto_columns": null,
      "grid_auto_flow": null,
      "grid_auto_rows": null,
      "grid_column": null,
      "grid_gap": null,
      "grid_row": null,
      "grid_template_areas": null,
      "grid_template_columns": null,
      "grid_template_rows": null,
      "height": null,
      "justify_content": null,
      "justify_items": null,
      "left": null,
      "margin": null,
      "max_height": null,
      "max_width": null,
      "min_height": null,
      "min_width": null,
      "object_fit": null,
      "object_position": null,
      "order": null,
      "overflow": null,
      "overflow_x": null,
      "overflow_y": null,
      "padding": null,
      "right": null,
      "top": null,
      "visibility": null,
      "width": null
     }
    },
    "70b772a034964222a8cd7d87b0ea8c15": {
     "model_module": "@jupyter-widgets/controls",
     "model_module_version": "1.5.0",
     "model_name": "HBoxModel",
     "state": {
      "_dom_classes": [],
      "_model_module": "@jupyter-widgets/controls",
      "_model_module_version": "1.5.0",
      "_model_name": "HBoxModel",
      "_view_count": null,
      "_view_module": "@jupyter-widgets/controls",
      "_view_module_version": "1.5.0",
      "_view_name": "HBoxView",
      "box_style": "",
      "children": [
       "IPY_MODEL_e05dbb2106164a38a55c96cfeb35d8c7",
       "IPY_MODEL_570e253001ac4b9e8a504dcf4f203986",
       "IPY_MODEL_a083c60313f9478d888c710de897b4f3"
      ],
      "layout": "IPY_MODEL_bc5a7aac2a9744b5a353d209d53e7758"
     }
    },
    "71e128e6b394464bb99cd403ca0e84f4": {
     "model_module": "@jupyter-widgets/controls",
     "model_module_version": "1.5.0",
     "model_name": "DescriptionStyleModel",
     "state": {
      "_model_module": "@jupyter-widgets/controls",
      "_model_module_version": "1.5.0",
      "_model_name": "DescriptionStyleModel",
      "_view_count": null,
      "_view_module": "@jupyter-widgets/base",
      "_view_module_version": "1.2.0",
      "_view_name": "StyleView",
      "description_width": ""
     }
    },
    "74c5c06c8807485c91454ac4fdf20ea6": {
     "model_module": "@jupyter-widgets/controls",
     "model_module_version": "1.5.0",
     "model_name": "FloatProgressModel",
     "state": {
      "_dom_classes": [],
      "_model_module": "@jupyter-widgets/controls",
      "_model_module_version": "1.5.0",
      "_model_name": "FloatProgressModel",
      "_view_count": null,
      "_view_module": "@jupyter-widgets/controls",
      "_view_module_version": "1.5.0",
      "_view_name": "ProgressView",
      "bar_style": "success",
      "description": "",
      "description_tooltip": null,
      "layout": "IPY_MODEL_04ec571e647043c7b3222445c2d8f536",
      "max": 239,
      "min": 0,
      "orientation": "horizontal",
      "style": "IPY_MODEL_c9a58f56e6304dba8ce786f4bd634c09",
      "value": 239
     }
    },
    "7584a32a8b7449af87a16317cfdd52e9": {
     "model_module": "@jupyter-widgets/base",
     "model_module_version": "1.2.0",
     "model_name": "LayoutModel",
     "state": {
      "_model_module": "@jupyter-widgets/base",
      "_model_module_version": "1.2.0",
      "_model_name": "LayoutModel",
      "_view_count": null,
      "_view_module": "@jupyter-widgets/base",
      "_view_module_version": "1.2.0",
      "_view_name": "LayoutView",
      "align_content": null,
      "align_items": null,
      "align_self": null,
      "border": null,
      "bottom": null,
      "display": null,
      "flex": null,
      "flex_flow": null,
      "grid_area": null,
      "grid_auto_columns": null,
      "grid_auto_flow": null,
      "grid_auto_rows": null,
      "grid_column": null,
      "grid_gap": null,
      "grid_row": null,
      "grid_template_areas": null,
      "grid_template_columns": null,
      "grid_template_rows": null,
      "height": null,
      "justify_content": null,
      "justify_items": null,
      "left": null,
      "margin": null,
      "max_height": null,
      "max_width": null,
      "min_height": null,
      "min_width": null,
      "object_fit": null,
      "object_position": null,
      "order": null,
      "overflow": null,
      "overflow_x": null,
      "overflow_y": null,
      "padding": null,
      "right": null,
      "top": null,
      "visibility": null,
      "width": null
     }
    },
    "7854b1a7b7324ba2bf3c196eb66dd879": {
     "model_module": "@jupyter-widgets/base",
     "model_module_version": "1.2.0",
     "model_name": "LayoutModel",
     "state": {
      "_model_module": "@jupyter-widgets/base",
      "_model_module_version": "1.2.0",
      "_model_name": "LayoutModel",
      "_view_count": null,
      "_view_module": "@jupyter-widgets/base",
      "_view_module_version": "1.2.0",
      "_view_name": "LayoutView",
      "align_content": null,
      "align_items": null,
      "align_self": null,
      "border": null,
      "bottom": null,
      "display": null,
      "flex": null,
      "flex_flow": null,
      "grid_area": null,
      "grid_auto_columns": null,
      "grid_auto_flow": null,
      "grid_auto_rows": null,
      "grid_column": null,
      "grid_gap": null,
      "grid_row": null,
      "grid_template_areas": null,
      "grid_template_columns": null,
      "grid_template_rows": null,
      "height": null,
      "justify_content": null,
      "justify_items": null,
      "left": null,
      "margin": null,
      "max_height": null,
      "max_width": null,
      "min_height": null,
      "min_width": null,
      "object_fit": null,
      "object_position": null,
      "order": null,
      "overflow": null,
      "overflow_x": null,
      "overflow_y": null,
      "padding": null,
      "right": null,
      "top": null,
      "visibility": null,
      "width": null
     }
    },
    "78d79b7693784bee899371a3b9faf329": {
     "model_module": "@jupyter-widgets/controls",
     "model_module_version": "1.5.0",
     "model_name": "FloatProgressModel",
     "state": {
      "_dom_classes": [],
      "_model_module": "@jupyter-widgets/controls",
      "_model_module_version": "1.5.0",
      "_model_name": "FloatProgressModel",
      "_view_count": null,
      "_view_module": "@jupyter-widgets/controls",
      "_view_module_version": "1.5.0",
      "_view_name": "ProgressView",
      "bar_style": "success",
      "description": "",
      "description_tooltip": null,
      "layout": "IPY_MODEL_830a7944f6774bc7bd35c41f74395f71",
      "max": 798293,
      "min": 0,
      "orientation": "horizontal",
      "style": "IPY_MODEL_1e771d05872e42c591c0b19c1e770375",
      "value": 798293
     }
    },
    "7b859613d81b406f81052906b517d60c": {
     "model_module": "@jupyter-widgets/controls",
     "model_module_version": "1.5.0",
     "model_name": "DescriptionStyleModel",
     "state": {
      "_model_module": "@jupyter-widgets/controls",
      "_model_module_version": "1.5.0",
      "_model_name": "DescriptionStyleModel",
      "_view_count": null,
      "_view_module": "@jupyter-widgets/base",
      "_view_module_version": "1.2.0",
      "_view_name": "StyleView",
      "description_width": ""
     }
    },
    "7ee233013cad468a8a53437e97559f85": {
     "model_module": "@jupyter-widgets/base",
     "model_module_version": "1.2.0",
     "model_name": "LayoutModel",
     "state": {
      "_model_module": "@jupyter-widgets/base",
      "_model_module_version": "1.2.0",
      "_model_name": "LayoutModel",
      "_view_count": null,
      "_view_module": "@jupyter-widgets/base",
      "_view_module_version": "1.2.0",
      "_view_name": "LayoutView",
      "align_content": null,
      "align_items": null,
      "align_self": null,
      "border": null,
      "bottom": null,
      "display": null,
      "flex": null,
      "flex_flow": null,
      "grid_area": null,
      "grid_auto_columns": null,
      "grid_auto_flow": null,
      "grid_auto_rows": null,
      "grid_column": null,
      "grid_gap": null,
      "grid_row": null,
      "grid_template_areas": null,
      "grid_template_columns": null,
      "grid_template_rows": null,
      "height": null,
      "justify_content": null,
      "justify_items": null,
      "left": null,
      "margin": null,
      "max_height": null,
      "max_width": null,
      "min_height": null,
      "min_width": null,
      "object_fit": null,
      "object_position": null,
      "order": null,
      "overflow": null,
      "overflow_x": null,
      "overflow_y": null,
      "padding": null,
      "right": null,
      "top": null,
      "visibility": null,
      "width": null
     }
    },
    "81f29a0178504be98915fc4a3c51d4ad": {
     "model_module": "@jupyter-widgets/controls",
     "model_module_version": "1.5.0",
     "model_name": "HTMLModel",
     "state": {
      "_dom_classes": [],
      "_model_module": "@jupyter-widgets/controls",
      "_model_module_version": "1.5.0",
      "_model_name": "HTMLModel",
      "_view_count": null,
      "_view_module": "@jupyter-widgets/controls",
      "_view_module_version": "1.5.0",
      "_view_name": "HTMLView",
      "description": "",
      "description_tooltip": null,
      "layout": "IPY_MODEL_9fbc7908595845a5a339f8290fcaf7be",
      "placeholder": "​",
      "style": "IPY_MODEL_d8ae26b4cfba44a38f1c3a76d09f7ff8",
      "value": "model.safetensors: 100%"
     }
    },
    "830a7944f6774bc7bd35c41f74395f71": {
     "model_module": "@jupyter-widgets/base",
     "model_module_version": "1.2.0",
     "model_name": "LayoutModel",
     "state": {
      "_model_module": "@jupyter-widgets/base",
      "_model_module_version": "1.2.0",
      "_model_name": "LayoutModel",
      "_view_count": null,
      "_view_module": "@jupyter-widgets/base",
      "_view_module_version": "1.2.0",
      "_view_name": "LayoutView",
      "align_content": null,
      "align_items": null,
      "align_self": null,
      "border": null,
      "bottom": null,
      "display": null,
      "flex": null,
      "flex_flow": null,
      "grid_area": null,
      "grid_auto_columns": null,
      "grid_auto_flow": null,
      "grid_auto_rows": null,
      "grid_column": null,
      "grid_gap": null,
      "grid_row": null,
      "grid_template_areas": null,
      "grid_template_columns": null,
      "grid_template_rows": null,
      "height": null,
      "justify_content": null,
      "justify_items": null,
      "left": null,
      "margin": null,
      "max_height": null,
      "max_width": null,
      "min_height": null,
      "min_width": null,
      "object_fit": null,
      "object_position": null,
      "order": null,
      "overflow": null,
      "overflow_x": null,
      "overflow_y": null,
      "padding": null,
      "right": null,
      "top": null,
      "visibility": null,
      "width": null
     }
    },
    "83d51037252f4bc8a2b518e7e1ff4beb": {
     "model_module": "@jupyter-widgets/controls",
     "model_module_version": "1.5.0",
     "model_name": "HTMLModel",
     "state": {
      "_dom_classes": [],
      "_model_module": "@jupyter-widgets/controls",
      "_model_module_version": "1.5.0",
      "_model_name": "HTMLModel",
      "_view_count": null,
      "_view_module": "@jupyter-widgets/controls",
      "_view_module_version": "1.5.0",
      "_view_name": "HTMLView",
      "description": "",
      "description_tooltip": null,
      "layout": "IPY_MODEL_36af15a7fecd4bd0b659dcf18ba46cbe",
      "placeholder": "​",
      "style": "IPY_MODEL_be5bce9d2a064363ab4e9cfba9d32d2b",
      "value": " 798k/798k [00:00&lt;00:00, 16.0MB/s]"
     }
    },
    "84dc9d4b5937454a8935463314b167f3": {
     "model_module": "@jupyter-widgets/base",
     "model_module_version": "1.2.0",
     "model_name": "LayoutModel",
     "state": {
      "_model_module": "@jupyter-widgets/base",
      "_model_module_version": "1.2.0",
      "_model_name": "LayoutModel",
      "_view_count": null,
      "_view_module": "@jupyter-widgets/base",
      "_view_module_version": "1.2.0",
      "_view_name": "LayoutView",
      "align_content": null,
      "align_items": null,
      "align_self": null,
      "border": null,
      "bottom": null,
      "display": null,
      "flex": null,
      "flex_flow": null,
      "grid_area": null,
      "grid_auto_columns": null,
      "grid_auto_flow": null,
      "grid_auto_rows": null,
      "grid_column": null,
      "grid_gap": null,
      "grid_row": null,
      "grid_template_areas": null,
      "grid_template_columns": null,
      "grid_template_rows": null,
      "height": null,
      "justify_content": null,
      "justify_items": null,
      "left": null,
      "margin": null,
      "max_height": null,
      "max_width": null,
      "min_height": null,
      "min_width": null,
      "object_fit": null,
      "object_position": null,
      "order": null,
      "overflow": null,
      "overflow_x": null,
      "overflow_y": null,
      "padding": null,
      "right": null,
      "top": null,
      "visibility": null,
      "width": null
     }
    },
    "87243470a73f46b2ac55f05e0dfce1be": {
     "model_module": "@jupyter-widgets/controls",
     "model_module_version": "1.5.0",
     "model_name": "DescriptionStyleModel",
     "state": {
      "_model_module": "@jupyter-widgets/controls",
      "_model_module_version": "1.5.0",
      "_model_name": "DescriptionStyleModel",
      "_view_count": null,
      "_view_module": "@jupyter-widgets/base",
      "_view_module_version": "1.2.0",
      "_view_name": "StyleView",
      "description_width": ""
     }
    },
    "89a659ead07d477d8c95085936b86946": {
     "model_module": "@jupyter-widgets/controls",
     "model_module_version": "1.5.0",
     "model_name": "HBoxModel",
     "state": {
      "_dom_classes": [],
      "_model_module": "@jupyter-widgets/controls",
      "_model_module_version": "1.5.0",
      "_model_name": "HBoxModel",
      "_view_count": null,
      "_view_module": "@jupyter-widgets/controls",
      "_view_module_version": "1.5.0",
      "_view_name": "HBoxView",
      "box_style": "",
      "children": [
       "IPY_MODEL_49a6d3e3f8ea40fe97fe6afb1fb03ff0",
       "IPY_MODEL_78d79b7693784bee899371a3b9faf329",
       "IPY_MODEL_83d51037252f4bc8a2b518e7e1ff4beb"
      ],
      "layout": "IPY_MODEL_7584a32a8b7449af87a16317cfdd52e9"
     }
    },
    "91196eef30f64afc9ffe562d91907047": {
     "model_module": "@jupyter-widgets/base",
     "model_module_version": "1.2.0",
     "model_name": "LayoutModel",
     "state": {
      "_model_module": "@jupyter-widgets/base",
      "_model_module_version": "1.2.0",
      "_model_name": "LayoutModel",
      "_view_count": null,
      "_view_module": "@jupyter-widgets/base",
      "_view_module_version": "1.2.0",
      "_view_name": "LayoutView",
      "align_content": null,
      "align_items": null,
      "align_self": null,
      "border": null,
      "bottom": null,
      "display": null,
      "flex": null,
      "flex_flow": null,
      "grid_area": null,
      "grid_auto_columns": null,
      "grid_auto_flow": null,
      "grid_auto_rows": null,
      "grid_column": null,
      "grid_gap": null,
      "grid_row": null,
      "grid_template_areas": null,
      "grid_template_columns": null,
      "grid_template_rows": null,
      "height": null,
      "justify_content": null,
      "justify_items": null,
      "left": null,
      "margin": null,
      "max_height": null,
      "max_width": null,
      "min_height": null,
      "min_width": null,
      "object_fit": null,
      "object_position": null,
      "order": null,
      "overflow": null,
      "overflow_x": null,
      "overflow_y": null,
      "padding": null,
      "right": null,
      "top": null,
      "visibility": null,
      "width": null
     }
    },
    "9214f8cb409940d78dabf4b092d6a4e0": {
     "model_module": "@jupyter-widgets/controls",
     "model_module_version": "1.5.0",
     "model_name": "DescriptionStyleModel",
     "state": {
      "_model_module": "@jupyter-widgets/controls",
      "_model_module_version": "1.5.0",
      "_model_name": "DescriptionStyleModel",
      "_view_count": null,
      "_view_module": "@jupyter-widgets/base",
      "_view_module_version": "1.2.0",
      "_view_name": "StyleView",
      "description_width": ""
     }
    },
    "932fe29aeb9144088a73ad1819b27148": {
     "model_module": "@jupyter-widgets/controls",
     "model_module_version": "1.5.0",
     "model_name": "HTMLModel",
     "state": {
      "_dom_classes": [],
      "_model_module": "@jupyter-widgets/controls",
      "_model_module_version": "1.5.0",
      "_model_name": "HTMLModel",
      "_view_count": null,
      "_view_module": "@jupyter-widgets/controls",
      "_view_module_version": "1.5.0",
      "_view_name": "HTMLView",
      "description": "",
      "description_tooltip": null,
      "layout": "IPY_MODEL_7ee233013cad468a8a53437e97559f85",
      "placeholder": "​",
      "style": "IPY_MODEL_547a54f4088542c18007c6f328212490",
      "value": "special_tokens_map.json: 100%"
     }
    },
    "968ebcc540e64c0d99233208893ff4ea": {
     "model_module": "@jupyter-widgets/base",
     "model_module_version": "1.2.0",
     "model_name": "LayoutModel",
     "state": {
      "_model_module": "@jupyter-widgets/base",
      "_model_module_version": "1.2.0",
      "_model_name": "LayoutModel",
      "_view_count": null,
      "_view_module": "@jupyter-widgets/base",
      "_view_module_version": "1.2.0",
      "_view_name": "LayoutView",
      "align_content": null,
      "align_items": null,
      "align_self": null,
      "border": null,
      "bottom": null,
      "display": null,
      "flex": null,
      "flex_flow": null,
      "grid_area": null,
      "grid_auto_columns": null,
      "grid_auto_flow": null,
      "grid_auto_rows": null,
      "grid_column": null,
      "grid_gap": null,
      "grid_row": null,
      "grid_template_areas": null,
      "grid_template_columns": null,
      "grid_template_rows": null,
      "height": null,
      "justify_content": null,
      "justify_items": null,
      "left": null,
      "margin": null,
      "max_height": null,
      "max_width": null,
      "min_height": null,
      "min_width": null,
      "object_fit": null,
      "object_position": null,
      "order": null,
      "overflow": null,
      "overflow_x": null,
      "overflow_y": null,
      "padding": null,
      "right": null,
      "top": null,
      "visibility": null,
      "width": null
     }
    },
    "96dc3ad97c2d45078e46a67d13eebbdf": {
     "model_module": "@jupyter-widgets/controls",
     "model_module_version": "1.5.0",
     "model_name": "FloatProgressModel",
     "state": {
      "_dom_classes": [],
      "_model_module": "@jupyter-widgets/controls",
      "_model_module_version": "1.5.0",
      "_model_name": "FloatProgressModel",
      "_view_count": null,
      "_view_module": "@jupyter-widgets/controls",
      "_view_module_version": "1.5.0",
      "_view_name": "ProgressView",
      "bar_style": "success",
      "description": "",
      "description_tooltip": null,
      "layout": "IPY_MODEL_579d0af9d7d34869a158ecc25e15ad5b",
      "max": 53330,
      "min": 0,
      "orientation": "horizontal",
      "style": "IPY_MODEL_106805ee758140ef9964518f4b43fa98",
      "value": 53330
     }
    },
    "97a2b78130e04682ac75876de14b0b9a": {
     "model_module": "@jupyter-widgets/controls",
     "model_module_version": "1.5.0",
     "model_name": "HTMLModel",
     "state": {
      "_dom_classes": [],
      "_model_module": "@jupyter-widgets/controls",
      "_model_module_version": "1.5.0",
      "_model_name": "HTMLModel",
      "_view_count": null,
      "_view_module": "@jupyter-widgets/controls",
      "_view_module_version": "1.5.0",
      "_view_name": "HTMLView",
      "description": "",
      "description_tooltip": null,
      "layout": "IPY_MODEL_968ebcc540e64c0d99233208893ff4ea",
      "placeholder": "​",
      "style": "IPY_MODEL_be57b917c37f477eabb15e9ad23139d4",
      "value": "merges.txt: 100%"
     }
    },
    "9fbc7908595845a5a339f8290fcaf7be": {
     "model_module": "@jupyter-widgets/base",
     "model_module_version": "1.2.0",
     "model_name": "LayoutModel",
     "state": {
      "_model_module": "@jupyter-widgets/base",
      "_model_module_version": "1.2.0",
      "_model_name": "LayoutModel",
      "_view_count": null,
      "_view_module": "@jupyter-widgets/base",
      "_view_module_version": "1.2.0",
      "_view_name": "LayoutView",
      "align_content": null,
      "align_items": null,
      "align_self": null,
      "border": null,
      "bottom": null,
      "display": null,
      "flex": null,
      "flex_flow": null,
      "grid_area": null,
      "grid_auto_columns": null,
      "grid_auto_flow": null,
      "grid_auto_rows": null,
      "grid_column": null,
      "grid_gap": null,
      "grid_row": null,
      "grid_template_areas": null,
      "grid_template_columns": null,
      "grid_template_rows": null,
      "height": null,
      "justify_content": null,
      "justify_items": null,
      "left": null,
      "margin": null,
      "max_height": null,
      "max_width": null,
      "min_height": null,
      "min_width": null,
      "object_fit": null,
      "object_position": null,
      "order": null,
      "overflow": null,
      "overflow_x": null,
      "overflow_y": null,
      "padding": null,
      "right": null,
      "top": null,
      "visibility": null,
      "width": null
     }
    },
    "a083c60313f9478d888c710de897b4f3": {
     "model_module": "@jupyter-widgets/controls",
     "model_module_version": "1.5.0",
     "model_name": "HTMLModel",
     "state": {
      "_dom_classes": [],
      "_model_module": "@jupyter-widgets/controls",
      "_model_module_version": "1.5.0",
      "_model_name": "HTMLModel",
      "_view_count": null,
      "_view_module": "@jupyter-widgets/controls",
      "_view_module_version": "1.5.0",
      "_view_name": "HTMLView",
      "description": "",
      "description_tooltip": null,
      "layout": "IPY_MODEL_e341d1fbc30f442ba54abaee66b2e1b1",
      "placeholder": "​",
      "style": "IPY_MODEL_d55dc3315d8c475e8d899a26f6b8e179",
      "value": " 333/333 [00:00&lt;00:00, 21.8kB/s]"
     }
    },
    "a0c8469ae7f5433aa198f42493f7d54b": {
     "model_module": "@jupyter-widgets/controls",
     "model_module_version": "1.5.0",
     "model_name": "HBoxModel",
     "state": {
      "_dom_classes": [],
      "_model_module": "@jupyter-widgets/controls",
      "_model_module_version": "1.5.0",
      "_model_name": "HBoxModel",
      "_view_count": null,
      "_view_module": "@jupyter-widgets/controls",
      "_view_module_version": "1.5.0",
      "_view_name": "HBoxView",
      "box_style": "",
      "children": [
       "IPY_MODEL_1803b1202d4d40b6ab064680776b46a8",
       "IPY_MODEL_0e0d773d56464693b5e64fdeb48778fa",
       "IPY_MODEL_51259b502db04134a91ee03c4fc0e109"
      ],
      "layout": "IPY_MODEL_06b8d3820b944d368ec82699df6b19c9"
     }
    },
    "a27950c6cf774054980bc5599a8d749e": {
     "model_module": "@jupyter-widgets/controls",
     "model_module_version": "1.5.0",
     "model_name": "HBoxModel",
     "state": {
      "_dom_classes": [],
      "_model_module": "@jupyter-widgets/controls",
      "_model_module_version": "1.5.0",
      "_model_name": "HBoxModel",
      "_view_count": null,
      "_view_module": "@jupyter-widgets/controls",
      "_view_module_version": "1.5.0",
      "_view_name": "HBoxView",
      "box_style": "",
      "children": [
       "IPY_MODEL_932fe29aeb9144088a73ad1819b27148",
       "IPY_MODEL_74c5c06c8807485c91454ac4fdf20ea6",
       "IPY_MODEL_c7854f79ec4d45739c6473c23eac9ade"
      ],
      "layout": "IPY_MODEL_e7b366a39942432497911e9ea4852e3d"
     }
    },
    "a7abc5e61d88480789a999a301ff754f": {
     "model_module": "@jupyter-widgets/base",
     "model_module_version": "1.2.0",
     "model_name": "LayoutModel",
     "state": {
      "_model_module": "@jupyter-widgets/base",
      "_model_module_version": "1.2.0",
      "_model_name": "LayoutModel",
      "_view_count": null,
      "_view_module": "@jupyter-widgets/base",
      "_view_module_version": "1.2.0",
      "_view_name": "LayoutView",
      "align_content": null,
      "align_items": null,
      "align_self": null,
      "border": null,
      "bottom": null,
      "display": null,
      "flex": null,
      "flex_flow": null,
      "grid_area": null,
      "grid_auto_columns": null,
      "grid_auto_flow": null,
      "grid_auto_rows": null,
      "grid_column": null,
      "grid_gap": null,
      "grid_row": null,
      "grid_template_areas": null,
      "grid_template_columns": null,
      "grid_template_rows": null,
      "height": null,
      "justify_content": null,
      "justify_items": null,
      "left": null,
      "margin": null,
      "max_height": null,
      "max_width": null,
      "min_height": null,
      "min_width": null,
      "object_fit": null,
      "object_position": null,
      "order": null,
      "overflow": null,
      "overflow_x": null,
      "overflow_y": null,
      "padding": null,
      "right": null,
      "top": null,
      "visibility": null,
      "width": null
     }
    },
    "aae168088ac2475d9f508e061162be92": {
     "model_module": "@jupyter-widgets/controls",
     "model_module_version": "1.5.0",
     "model_name": "HBoxModel",
     "state": {
      "_dom_classes": [],
      "_model_module": "@jupyter-widgets/controls",
      "_model_module_version": "1.5.0",
      "_model_name": "HBoxModel",
      "_view_count": null,
      "_view_module": "@jupyter-widgets/controls",
      "_view_module_version": "1.5.0",
      "_view_name": "HBoxView",
      "box_style": "",
      "children": [
       "IPY_MODEL_576fa48ddaf54742bf955a6141aa1300",
       "IPY_MODEL_f7743e1af422499ea3c74ca50e3cc5b5",
       "IPY_MODEL_b163d08d953946e9a756f7b7412b8215"
      ],
      "layout": "IPY_MODEL_43b43403084e458794c12b3d33a7c044"
     }
    },
    "ac6408403da24cdcaaa9a9bbc12d6c53": {
     "model_module": "@jupyter-widgets/base",
     "model_module_version": "1.2.0",
     "model_name": "LayoutModel",
     "state": {
      "_model_module": "@jupyter-widgets/base",
      "_model_module_version": "1.2.0",
      "_model_name": "LayoutModel",
      "_view_count": null,
      "_view_module": "@jupyter-widgets/base",
      "_view_module_version": "1.2.0",
      "_view_name": "LayoutView",
      "align_content": null,
      "align_items": null,
      "align_self": null,
      "border": null,
      "bottom": null,
      "display": null,
      "flex": null,
      "flex_flow": null,
      "grid_area": null,
      "grid_auto_columns": null,
      "grid_auto_flow": null,
      "grid_auto_rows": null,
      "grid_column": null,
      "grid_gap": null,
      "grid_row": null,
      "grid_template_areas": null,
      "grid_template_columns": null,
      "grid_template_rows": null,
      "height": null,
      "justify_content": null,
      "justify_items": null,
      "left": null,
      "margin": null,
      "max_height": null,
      "max_width": null,
      "min_height": null,
      "min_width": null,
      "object_fit": null,
      "object_position": null,
      "order": null,
      "overflow": null,
      "overflow_x": null,
      "overflow_y": null,
      "padding": null,
      "right": null,
      "top": null,
      "visibility": null,
      "width": null
     }
    },
    "b163d08d953946e9a756f7b7412b8215": {
     "model_module": "@jupyter-widgets/controls",
     "model_module_version": "1.5.0",
     "model_name": "HTMLModel",
     "state": {
      "_dom_classes": [],
      "_model_module": "@jupyter-widgets/controls",
      "_model_module_version": "1.5.0",
      "_model_name": "HTMLModel",
      "_view_count": null,
      "_view_module": "@jupyter-widgets/controls",
      "_view_module_version": "1.5.0",
      "_view_name": "HTMLView",
      "description": "",
      "description_tooltip": null,
      "layout": "IPY_MODEL_7854b1a7b7324ba2bf3c196eb66dd879",
      "placeholder": "​",
      "style": "IPY_MODEL_38ca8a77f5494e4c8a7ca90465eff518",
      "value": " 933/933 [00:00&lt;00:00, 49.2kB/s]"
     }
    },
    "bc5a7aac2a9744b5a353d209d53e7758": {
     "model_module": "@jupyter-widgets/base",
     "model_module_version": "1.2.0",
     "model_name": "LayoutModel",
     "state": {
      "_model_module": "@jupyter-widgets/base",
      "_model_module_version": "1.2.0",
      "_model_name": "LayoutModel",
      "_view_count": null,
      "_view_module": "@jupyter-widgets/base",
      "_view_module_version": "1.2.0",
      "_view_name": "LayoutView",
      "align_content": null,
      "align_items": null,
      "align_self": null,
      "border": null,
      "bottom": null,
      "display": null,
      "flex": null,
      "flex_flow": null,
      "grid_area": null,
      "grid_auto_columns": null,
      "grid_auto_flow": null,
      "grid_auto_rows": null,
      "grid_column": null,
      "grid_gap": null,
      "grid_row": null,
      "grid_template_areas": null,
      "grid_template_columns": null,
      "grid_template_rows": null,
      "height": null,
      "justify_content": null,
      "justify_items": null,
      "left": null,
      "margin": null,
      "max_height": null,
      "max_width": null,
      "min_height": null,
      "min_width": null,
      "object_fit": null,
      "object_position": null,
      "order": null,
      "overflow": null,
      "overflow_x": null,
      "overflow_y": null,
      "padding": null,
      "right": null,
      "top": null,
      "visibility": null,
      "width": null
     }
    },
    "be57b917c37f477eabb15e9ad23139d4": {
     "model_module": "@jupyter-widgets/controls",
     "model_module_version": "1.5.0",
     "model_name": "DescriptionStyleModel",
     "state": {
      "_model_module": "@jupyter-widgets/controls",
      "_model_module_version": "1.5.0",
      "_model_name": "DescriptionStyleModel",
      "_view_count": null,
      "_view_module": "@jupyter-widgets/base",
      "_view_module_version": "1.2.0",
      "_view_name": "StyleView",
      "description_width": ""
     }
    },
    "be5bce9d2a064363ab4e9cfba9d32d2b": {
     "model_module": "@jupyter-widgets/controls",
     "model_module_version": "1.5.0",
     "model_name": "DescriptionStyleModel",
     "state": {
      "_model_module": "@jupyter-widgets/controls",
      "_model_module_version": "1.5.0",
      "_model_name": "DescriptionStyleModel",
      "_view_count": null,
      "_view_module": "@jupyter-widgets/base",
      "_view_module_version": "1.2.0",
      "_view_name": "StyleView",
      "description_width": ""
     }
    },
    "c0740d1aa7894ef7a7f8daf3d93d7f40": {
     "model_module": "@jupyter-widgets/controls",
     "model_module_version": "1.5.0",
     "model_name": "DescriptionStyleModel",
     "state": {
      "_model_module": "@jupyter-widgets/controls",
      "_model_module_version": "1.5.0",
      "_model_name": "DescriptionStyleModel",
      "_view_count": null,
      "_view_module": "@jupyter-widgets/base",
      "_view_module_version": "1.2.0",
      "_view_name": "StyleView",
      "description_width": ""
     }
    },
    "c3a03a311ae84eb7bb997525cfeca920": {
     "model_module": "@jupyter-widgets/controls",
     "model_module_version": "1.5.0",
     "model_name": "ProgressStyleModel",
     "state": {
      "_model_module": "@jupyter-widgets/controls",
      "_model_module_version": "1.5.0",
      "_model_name": "ProgressStyleModel",
      "_view_count": null,
      "_view_module": "@jupyter-widgets/base",
      "_view_module_version": "1.2.0",
      "_view_name": "StyleView",
      "bar_color": null,
      "description_width": ""
     }
    },
    "c7854f79ec4d45739c6473c23eac9ade": {
     "model_module": "@jupyter-widgets/controls",
     "model_module_version": "1.5.0",
     "model_name": "HTMLModel",
     "state": {
      "_dom_classes": [],
      "_model_module": "@jupyter-widgets/controls",
      "_model_module_version": "1.5.0",
      "_model_name": "HTMLModel",
      "_view_count": null,
      "_view_module": "@jupyter-widgets/controls",
      "_view_module_version": "1.5.0",
      "_view_name": "HTMLView",
      "description": "",
      "description_tooltip": null,
      "layout": "IPY_MODEL_5fd5df28e825495eb2e73872ef606711",
      "placeholder": "​",
      "style": "IPY_MODEL_71e128e6b394464bb99cd403ca0e84f4",
      "value": " 239/239 [00:00&lt;00:00, 15.2kB/s]"
     }
    },
    "c85dfffa3b71462fa773edc88b946cf9": {
     "model_module": "@jupyter-widgets/controls",
     "model_module_version": "1.5.0",
     "model_name": "HBoxModel",
     "state": {
      "_dom_classes": [],
      "_model_module": "@jupyter-widgets/controls",
      "_model_module_version": "1.5.0",
      "_model_name": "HBoxModel",
      "_view_count": null,
      "_view_module": "@jupyter-widgets/controls",
      "_view_module_version": "1.5.0",
      "_view_name": "HBoxView",
      "box_style": "",
      "children": [
       "IPY_MODEL_81f29a0178504be98915fc4a3c51d4ad",
       "IPY_MODEL_4278996454fb420ea5fd6234fe094f83",
       "IPY_MODEL_da68c2339d104a2992a728a6fce1f3cd"
      ],
      "layout": "IPY_MODEL_6ee15a01f81f49028e02c81202ecbd6e"
     }
    },
    "c9a58f56e6304dba8ce786f4bd634c09": {
     "model_module": "@jupyter-widgets/controls",
     "model_module_version": "1.5.0",
     "model_name": "ProgressStyleModel",
     "state": {
      "_model_module": "@jupyter-widgets/controls",
      "_model_module_version": "1.5.0",
      "_model_name": "ProgressStyleModel",
      "_view_count": null,
      "_view_module": "@jupyter-widgets/base",
      "_view_module_version": "1.2.0",
      "_view_name": "StyleView",
      "bar_color": null,
      "description_width": ""
     }
    },
    "cc2f253673a54444950f8f6cee45ebd9": {
     "model_module": "@jupyter-widgets/base",
     "model_module_version": "1.2.0",
     "model_name": "LayoutModel",
     "state": {
      "_model_module": "@jupyter-widgets/base",
      "_model_module_version": "1.2.0",
      "_model_name": "LayoutModel",
      "_view_count": null,
      "_view_module": "@jupyter-widgets/base",
      "_view_module_version": "1.2.0",
      "_view_name": "LayoutView",
      "align_content": null,
      "align_items": null,
      "align_self": null,
      "border": null,
      "bottom": null,
      "display": null,
      "flex": null,
      "flex_flow": null,
      "grid_area": null,
      "grid_auto_columns": null,
      "grid_auto_flow": null,
      "grid_auto_rows": null,
      "grid_column": null,
      "grid_gap": null,
      "grid_row": null,
      "grid_template_areas": null,
      "grid_template_columns": null,
      "grid_template_rows": null,
      "height": null,
      "justify_content": null,
      "justify_items": null,
      "left": null,
      "margin": null,
      "max_height": null,
      "max_width": null,
      "min_height": null,
      "min_width": null,
      "object_fit": null,
      "object_position": null,
      "order": null,
      "overflow": null,
      "overflow_x": null,
      "overflow_y": null,
      "padding": null,
      "right": null,
      "top": null,
      "visibility": null,
      "width": null
     }
    },
    "d34c1c6ae1a94cfa8e8a9793625abe3e": {
     "model_module": "@jupyter-widgets/base",
     "model_module_version": "1.2.0",
     "model_name": "LayoutModel",
     "state": {
      "_model_module": "@jupyter-widgets/base",
      "_model_module_version": "1.2.0",
      "_model_name": "LayoutModel",
      "_view_count": null,
      "_view_module": "@jupyter-widgets/base",
      "_view_module_version": "1.2.0",
      "_view_name": "LayoutView",
      "align_content": null,
      "align_items": null,
      "align_self": null,
      "border": null,
      "bottom": null,
      "display": null,
      "flex": null,
      "flex_flow": null,
      "grid_area": null,
      "grid_auto_columns": null,
      "grid_auto_flow": null,
      "grid_auto_rows": null,
      "grid_column": null,
      "grid_gap": null,
      "grid_row": null,
      "grid_template_areas": null,
      "grid_template_columns": null,
      "grid_template_rows": null,
      "height": null,
      "justify_content": null,
      "justify_items": null,
      "left": null,
      "margin": null,
      "max_height": null,
      "max_width": null,
      "min_height": null,
      "min_width": null,
      "object_fit": null,
      "object_position": null,
      "order": null,
      "overflow": null,
      "overflow_x": null,
      "overflow_y": null,
      "padding": null,
      "right": null,
      "top": null,
      "visibility": null,
      "width": null
     }
    },
    "d55dc3315d8c475e8d899a26f6b8e179": {
     "model_module": "@jupyter-widgets/controls",
     "model_module_version": "1.5.0",
     "model_name": "DescriptionStyleModel",
     "state": {
      "_model_module": "@jupyter-widgets/controls",
      "_model_module_version": "1.5.0",
      "_model_name": "DescriptionStyleModel",
      "_view_count": null,
      "_view_module": "@jupyter-widgets/base",
      "_view_module_version": "1.2.0",
      "_view_name": "StyleView",
      "description_width": ""
     }
    },
    "d8ae26b4cfba44a38f1c3a76d09f7ff8": {
     "model_module": "@jupyter-widgets/controls",
     "model_module_version": "1.5.0",
     "model_name": "DescriptionStyleModel",
     "state": {
      "_model_module": "@jupyter-widgets/controls",
      "_model_module_version": "1.5.0",
      "_model_name": "DescriptionStyleModel",
      "_view_count": null,
      "_view_module": "@jupyter-widgets/base",
      "_view_module_version": "1.2.0",
      "_view_name": "StyleView",
      "description_width": ""
     }
    },
    "da68c2339d104a2992a728a6fce1f3cd": {
     "model_module": "@jupyter-widgets/controls",
     "model_module_version": "1.5.0",
     "model_name": "HTMLModel",
     "state": {
      "_dom_classes": [],
      "_model_module": "@jupyter-widgets/controls",
      "_model_module_version": "1.5.0",
      "_model_name": "HTMLModel",
      "_view_count": null,
      "_view_module": "@jupyter-widgets/controls",
      "_view_module_version": "1.5.0",
      "_view_name": "HTMLView",
      "description": "",
      "description_tooltip": null,
      "layout": "IPY_MODEL_4e48111d9b32429bb51c3b2d04db2ead",
      "placeholder": "​",
      "style": "IPY_MODEL_87243470a73f46b2ac55f05e0dfce1be",
      "value": " 328M/328M [00:05&lt;00:00, 261MB/s]"
     }
    },
    "e05dbb2106164a38a55c96cfeb35d8c7": {
     "model_module": "@jupyter-widgets/controls",
     "model_module_version": "1.5.0",
     "model_name": "HTMLModel",
     "state": {
      "_dom_classes": [],
      "_model_module": "@jupyter-widgets/controls",
      "_model_module_version": "1.5.0",
      "_model_name": "HTMLModel",
      "_view_count": null,
      "_view_module": "@jupyter-widgets/controls",
      "_view_module_version": "1.5.0",
      "_view_name": "HTMLView",
      "description": "",
      "description_tooltip": null,
      "layout": "IPY_MODEL_f4a20f5798b740fe96b9ac32aa61a9fa",
      "placeholder": "​",
      "style": "IPY_MODEL_045a07208793444fb415609dcfed377f",
      "value": "tokenizer_config.json: 100%"
     }
    },
    "e341d1fbc30f442ba54abaee66b2e1b1": {
     "model_module": "@jupyter-widgets/base",
     "model_module_version": "1.2.0",
     "model_name": "LayoutModel",
     "state": {
      "_model_module": "@jupyter-widgets/base",
      "_model_module_version": "1.2.0",
      "_model_name": "LayoutModel",
      "_view_count": null,
      "_view_module": "@jupyter-widgets/base",
      "_view_module_version": "1.2.0",
      "_view_name": "LayoutView",
      "align_content": null,
      "align_items": null,
      "align_self": null,
      "border": null,
      "bottom": null,
      "display": null,
      "flex": null,
      "flex_flow": null,
      "grid_area": null,
      "grid_auto_columns": null,
      "grid_auto_flow": null,
      "grid_auto_rows": null,
      "grid_column": null,
      "grid_gap": null,
      "grid_row": null,
      "grid_template_areas": null,
      "grid_template_columns": null,
      "grid_template_rows": null,
      "height": null,
      "justify_content": null,
      "justify_items": null,
      "left": null,
      "margin": null,
      "max_height": null,
      "max_width": null,
      "min_height": null,
      "min_width": null,
      "object_fit": null,
      "object_position": null,
      "order": null,
      "overflow": null,
      "overflow_x": null,
      "overflow_y": null,
      "padding": null,
      "right": null,
      "top": null,
      "visibility": null,
      "width": null
     }
    },
    "e7b366a39942432497911e9ea4852e3d": {
     "model_module": "@jupyter-widgets/base",
     "model_module_version": "1.2.0",
     "model_name": "LayoutModel",
     "state": {
      "_model_module": "@jupyter-widgets/base",
      "_model_module_version": "1.2.0",
      "_model_name": "LayoutModel",
      "_view_count": null,
      "_view_module": "@jupyter-widgets/base",
      "_view_module_version": "1.2.0",
      "_view_name": "LayoutView",
      "align_content": null,
      "align_items": null,
      "align_self": null,
      "border": null,
      "bottom": null,
      "display": null,
      "flex": null,
      "flex_flow": null,
      "grid_area": null,
      "grid_auto_columns": null,
      "grid_auto_flow": null,
      "grid_auto_rows": null,
      "grid_column": null,
      "grid_gap": null,
      "grid_row": null,
      "grid_template_areas": null,
      "grid_template_columns": null,
      "grid_template_rows": null,
      "height": null,
      "justify_content": null,
      "justify_items": null,
      "left": null,
      "margin": null,
      "max_height": null,
      "max_width": null,
      "min_height": null,
      "min_width": null,
      "object_fit": null,
      "object_position": null,
      "order": null,
      "overflow": null,
      "overflow_x": null,
      "overflow_y": null,
      "padding": null,
      "right": null,
      "top": null,
      "visibility": null,
      "width": null
     }
    },
    "ef6949c06b584e3b8891e9bfc9c814b8": {
     "model_module": "@jupyter-widgets/base",
     "model_module_version": "1.2.0",
     "model_name": "LayoutModel",
     "state": {
      "_model_module": "@jupyter-widgets/base",
      "_model_module_version": "1.2.0",
      "_model_name": "LayoutModel",
      "_view_count": null,
      "_view_module": "@jupyter-widgets/base",
      "_view_module_version": "1.2.0",
      "_view_name": "LayoutView",
      "align_content": null,
      "align_items": null,
      "align_self": null,
      "border": null,
      "bottom": null,
      "display": null,
      "flex": null,
      "flex_flow": null,
      "grid_area": null,
      "grid_auto_columns": null,
      "grid_auto_flow": null,
      "grid_auto_rows": null,
      "grid_column": null,
      "grid_gap": null,
      "grid_row": null,
      "grid_template_areas": null,
      "grid_template_columns": null,
      "grid_template_rows": null,
      "height": null,
      "justify_content": null,
      "justify_items": null,
      "left": null,
      "margin": null,
      "max_height": null,
      "max_width": null,
      "min_height": null,
      "min_width": null,
      "object_fit": null,
      "object_position": null,
      "order": null,
      "overflow": null,
      "overflow_x": null,
      "overflow_y": null,
      "padding": null,
      "right": null,
      "top": null,
      "visibility": null,
      "width": null
     }
    },
    "f4a20f5798b740fe96b9ac32aa61a9fa": {
     "model_module": "@jupyter-widgets/base",
     "model_module_version": "1.2.0",
     "model_name": "LayoutModel",
     "state": {
      "_model_module": "@jupyter-widgets/base",
      "_model_module_version": "1.2.0",
      "_model_name": "LayoutModel",
      "_view_count": null,
      "_view_module": "@jupyter-widgets/base",
      "_view_module_version": "1.2.0",
      "_view_name": "LayoutView",
      "align_content": null,
      "align_items": null,
      "align_self": null,
      "border": null,
      "bottom": null,
      "display": null,
      "flex": null,
      "flex_flow": null,
      "grid_area": null,
      "grid_auto_columns": null,
      "grid_auto_flow": null,
      "grid_auto_rows": null,
      "grid_column": null,
      "grid_gap": null,
      "grid_row": null,
      "grid_template_areas": null,
      "grid_template_columns": null,
      "grid_template_rows": null,
      "height": null,
      "justify_content": null,
      "justify_items": null,
      "left": null,
      "margin": null,
      "max_height": null,
      "max_width": null,
      "min_height": null,
      "min_width": null,
      "object_fit": null,
      "object_position": null,
      "order": null,
      "overflow": null,
      "overflow_x": null,
      "overflow_y": null,
      "padding": null,
      "right": null,
      "top": null,
      "visibility": null,
      "width": null
     }
    },
    "f7743e1af422499ea3c74ca50e3cc5b5": {
     "model_module": "@jupyter-widgets/controls",
     "model_module_version": "1.5.0",
     "model_name": "FloatProgressModel",
     "state": {
      "_dom_classes": [],
      "_model_module": "@jupyter-widgets/controls",
      "_model_module_version": "1.5.0",
      "_model_name": "FloatProgressModel",
      "_view_count": null,
      "_view_module": "@jupyter-widgets/controls",
      "_view_module_version": "1.5.0",
      "_view_name": "ProgressView",
      "bar_style": "success",
      "description": "",
      "description_tooltip": null,
      "layout": "IPY_MODEL_46e248a5a67f48608d685eee8c4e8397",
      "max": 933,
      "min": 0,
      "orientation": "horizontal",
      "style": "IPY_MODEL_2ba71cca5027464890f248a27a41ff56",
      "value": 933
     }
    }
   }
  }
 },
 "nbformat": 4,
 "nbformat_minor": 4
}

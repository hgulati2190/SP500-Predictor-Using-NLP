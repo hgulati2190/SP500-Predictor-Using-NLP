{
 "cells": [
  {
   "cell_type": "markdown",
   "metadata": {},
   "source": [
    "# Data Prepping and EDA"
   ]
  },
  {
   "cell_type": "markdown",
   "metadata": {},
   "source": [
    "### Pull in raw headline data"
   ]
  },
  {
   "cell_type": "code",
   "execution_count": 1,
   "metadata": {},
   "outputs": [],
   "source": [
    "import pandas as pd"
   ]
  },
  {
   "cell_type": "code",
   "execution_count": 2,
   "metadata": {},
   "outputs": [],
   "source": [
    "data = pd.read_csv('../data/combined_headlines_new.csv')"
   ]
  },
  {
   "cell_type": "code",
   "execution_count": 3,
   "metadata": {},
   "outputs": [],
   "source": [
    "data['date'] = pd.to_datetime(data['date'])"
   ]
  },
  {
   "cell_type": "code",
   "execution_count": 4,
   "metadata": {},
   "outputs": [
    {
     "data": {
      "text/html": [
       "<div>\n",
       "<style scoped>\n",
       "    .dataframe tbody tr th:only-of-type {\n",
       "        vertical-align: middle;\n",
       "    }\n",
       "\n",
       "    .dataframe tbody tr th {\n",
       "        vertical-align: top;\n",
       "    }\n",
       "\n",
       "    .dataframe thead th {\n",
       "        text-align: right;\n",
       "    }\n",
       "</style>\n",
       "<table border=\"1\" class=\"dataframe\">\n",
       "  <thead>\n",
       "    <tr style=\"text-align: right;\">\n",
       "      <th></th>\n",
       "      <th>date</th>\n",
       "      <th>headlines</th>\n",
       "    </tr>\n",
       "  </thead>\n",
       "  <tbody>\n",
       "    <tr>\n",
       "      <th>0</th>\n",
       "      <td>2020-07-17</td>\n",
       "      <td>Jim Cramer : A better way to invest in the Cov...</td>\n",
       "    </tr>\n",
       "    <tr>\n",
       "      <th>1</th>\n",
       "      <td>2020-07-17</td>\n",
       "      <td>Cramer's lightning round : I would own Teradyne</td>\n",
       "    </tr>\n",
       "    <tr>\n",
       "      <th>2</th>\n",
       "      <td>2020-07-17</td>\n",
       "      <td>Cramer's week ahead : Big week for earnings , ...</td>\n",
       "    </tr>\n",
       "    <tr>\n",
       "      <th>3</th>\n",
       "      <td>2020-07-17</td>\n",
       "      <td>IQ Capital CEO Keith Bliss says tech and healt...</td>\n",
       "    </tr>\n",
       "    <tr>\n",
       "      <th>4</th>\n",
       "      <td>2020-07-16</td>\n",
       "      <td>Wall Street delivered the 'kind of pullback I'...</td>\n",
       "    </tr>\n",
       "  </tbody>\n",
       "</table>\n",
       "</div>"
      ],
      "text/plain": [
       "        date                                          headlines\n",
       "0 2020-07-17  Jim Cramer : A better way to invest in the Cov...\n",
       "1 2020-07-17    Cramer's lightning round : I would own Teradyne\n",
       "2 2020-07-17  Cramer's week ahead : Big week for earnings , ...\n",
       "3 2020-07-17  IQ Capital CEO Keith Bliss says tech and healt...\n",
       "4 2020-07-16  Wall Street delivered the 'kind of pullback I'..."
      ]
     },
     "execution_count": 4,
     "metadata": {},
     "output_type": "execute_result"
    }
   ],
   "source": [
    "data.head()"
   ]
  },
  {
   "cell_type": "markdown",
   "metadata": {},
   "source": [
    "### Use yfinance to get SPY stock data"
   ]
  },
  {
   "cell_type": "code",
   "execution_count": 5,
   "metadata": {},
   "outputs": [],
   "source": [
    "import yfinance as yf\n",
    "from datetime import date, timedelta\n",
    "\n",
    "def get_stock_data(ticker = 'SPY', start_date = (date.today() - timedelta(days=365)).strftime('%Y-%m-%d'), end_date = date.today().strftime('%Y-%m-%d')):\n",
    "    # Load the stock data\n",
    "    data = yf.download(ticker, start=start_date, end=end_date)\n",
    "    return data"
   ]
  },
  {
   "cell_type": "code",
   "execution_count": 6,
   "metadata": {},
   "outputs": [
    {
     "name": "stderr",
     "output_type": "stream",
     "text": [
      "[*********************100%%**********************]  1 of 1 completed\n"
     ]
    }
   ],
   "source": [
    "start_date = pd.to_datetime(data['date'].iloc[-1]).strftime('%Y-%m-%d')\n",
    "end_date = (pd.to_datetime(data['date'].iloc[0]) + timedelta(days=14)).strftime('%Y-%m-%d')\n",
    "stock_data = get_stock_data('SPY',start_date=start_date, end_date=end_date)"
   ]
  },
  {
   "cell_type": "code",
   "execution_count": 7,
   "metadata": {},
   "outputs": [
    {
     "data": {
      "text/html": [
       "<div>\n",
       "<style scoped>\n",
       "    .dataframe tbody tr th:only-of-type {\n",
       "        vertical-align: middle;\n",
       "    }\n",
       "\n",
       "    .dataframe tbody tr th {\n",
       "        vertical-align: top;\n",
       "    }\n",
       "\n",
       "    .dataframe thead th {\n",
       "        text-align: right;\n",
       "    }\n",
       "</style>\n",
       "<table border=\"1\" class=\"dataframe\">\n",
       "  <thead>\n",
       "    <tr style=\"text-align: right;\">\n",
       "      <th></th>\n",
       "      <th>Open</th>\n",
       "      <th>High</th>\n",
       "      <th>Low</th>\n",
       "      <th>Close</th>\n",
       "      <th>Adj Close</th>\n",
       "      <th>Volume</th>\n",
       "    </tr>\n",
       "    <tr>\n",
       "      <th>Date</th>\n",
       "      <th></th>\n",
       "      <th></th>\n",
       "      <th></th>\n",
       "      <th></th>\n",
       "      <th></th>\n",
       "      <th></th>\n",
       "    </tr>\n",
       "  </thead>\n",
       "  <tbody>\n",
       "    <tr>\n",
       "      <th>2018-03-20</th>\n",
       "      <td>270.940002</td>\n",
       "      <td>271.670013</td>\n",
       "      <td>270.179993</td>\n",
       "      <td>270.950012</td>\n",
       "      <td>244.474472</td>\n",
       "      <td>59757300</td>\n",
       "    </tr>\n",
       "    <tr>\n",
       "      <th>2018-03-21</th>\n",
       "      <td>270.899994</td>\n",
       "      <td>273.269989</td>\n",
       "      <td>270.190002</td>\n",
       "      <td>270.429993</td>\n",
       "      <td>244.005325</td>\n",
       "      <td>78709600</td>\n",
       "    </tr>\n",
       "    <tr>\n",
       "      <th>2018-03-22</th>\n",
       "      <td>267.910004</td>\n",
       "      <td>268.869995</td>\n",
       "      <td>263.359985</td>\n",
       "      <td>263.670013</td>\n",
       "      <td>237.905838</td>\n",
       "      <td>148785900</td>\n",
       "    </tr>\n",
       "    <tr>\n",
       "      <th>2018-03-23</th>\n",
       "      <td>264.170013</td>\n",
       "      <td>264.540009</td>\n",
       "      <td>257.829987</td>\n",
       "      <td>258.049988</td>\n",
       "      <td>232.835022</td>\n",
       "      <td>183534800</td>\n",
       "    </tr>\n",
       "    <tr>\n",
       "      <th>2018-03-26</th>\n",
       "      <td>262.130005</td>\n",
       "      <td>265.429993</td>\n",
       "      <td>259.410004</td>\n",
       "      <td>265.109985</td>\n",
       "      <td>239.205154</td>\n",
       "      <td>141956100</td>\n",
       "    </tr>\n",
       "  </tbody>\n",
       "</table>\n",
       "</div>"
      ],
      "text/plain": [
       "                  Open        High         Low       Close   Adj Close  \\\n",
       "Date                                                                     \n",
       "2018-03-20  270.940002  271.670013  270.179993  270.950012  244.474472   \n",
       "2018-03-21  270.899994  273.269989  270.190002  270.429993  244.005325   \n",
       "2018-03-22  267.910004  268.869995  263.359985  263.670013  237.905838   \n",
       "2018-03-23  264.170013  264.540009  257.829987  258.049988  232.835022   \n",
       "2018-03-26  262.130005  265.429993  259.410004  265.109985  239.205154   \n",
       "\n",
       "               Volume  \n",
       "Date                   \n",
       "2018-03-20   59757300  \n",
       "2018-03-21   78709600  \n",
       "2018-03-22  148785900  \n",
       "2018-03-23  183534800  \n",
       "2018-03-26  141956100  "
      ]
     },
     "execution_count": 7,
     "metadata": {},
     "output_type": "execute_result"
    }
   ],
   "source": [
    "stock_data.head()"
   ]
  },
  {
   "cell_type": "markdown",
   "metadata": {},
   "source": [
    "### Create new columns and combine them to our headline data to help us find our target labels"
   ]
  },
  {
   "cell_type": "code",
   "execution_count": 8,
   "metadata": {},
   "outputs": [],
   "source": [
    "# Create new column that contains future close prices\n",
    "prediction_period = 3\n",
    "stock_data['future_close'] = stock_data['Close'].shift(-prediction_period)"
   ]
  },
  {
   "cell_type": "code",
   "execution_count": 9,
   "metadata": {},
   "outputs": [
    {
     "data": {
      "text/html": [
       "<div>\n",
       "<style scoped>\n",
       "    .dataframe tbody tr th:only-of-type {\n",
       "        vertical-align: middle;\n",
       "    }\n",
       "\n",
       "    .dataframe tbody tr th {\n",
       "        vertical-align: top;\n",
       "    }\n",
       "\n",
       "    .dataframe thead th {\n",
       "        text-align: right;\n",
       "    }\n",
       "</style>\n",
       "<table border=\"1\" class=\"dataframe\">\n",
       "  <thead>\n",
       "    <tr style=\"text-align: right;\">\n",
       "      <th></th>\n",
       "      <th>Open</th>\n",
       "      <th>High</th>\n",
       "      <th>Low</th>\n",
       "      <th>Close</th>\n",
       "      <th>Adj Close</th>\n",
       "      <th>Volume</th>\n",
       "      <th>future_close</th>\n",
       "    </tr>\n",
       "    <tr>\n",
       "      <th>Date</th>\n",
       "      <th></th>\n",
       "      <th></th>\n",
       "      <th></th>\n",
       "      <th></th>\n",
       "      <th></th>\n",
       "      <th></th>\n",
       "      <th></th>\n",
       "    </tr>\n",
       "  </thead>\n",
       "  <tbody>\n",
       "    <tr>\n",
       "      <th>2018-03-20</th>\n",
       "      <td>270.940002</td>\n",
       "      <td>271.670013</td>\n",
       "      <td>270.179993</td>\n",
       "      <td>270.950012</td>\n",
       "      <td>244.474472</td>\n",
       "      <td>59757300</td>\n",
       "      <td>258.049988</td>\n",
       "    </tr>\n",
       "    <tr>\n",
       "      <th>2018-03-21</th>\n",
       "      <td>270.899994</td>\n",
       "      <td>273.269989</td>\n",
       "      <td>270.190002</td>\n",
       "      <td>270.429993</td>\n",
       "      <td>244.005325</td>\n",
       "      <td>78709600</td>\n",
       "      <td>265.109985</td>\n",
       "    </tr>\n",
       "    <tr>\n",
       "      <th>2018-03-22</th>\n",
       "      <td>267.910004</td>\n",
       "      <td>268.869995</td>\n",
       "      <td>263.359985</td>\n",
       "      <td>263.670013</td>\n",
       "      <td>237.905838</td>\n",
       "      <td>148785900</td>\n",
       "      <td>260.600006</td>\n",
       "    </tr>\n",
       "    <tr>\n",
       "      <th>2018-03-23</th>\n",
       "      <td>264.170013</td>\n",
       "      <td>264.540009</td>\n",
       "      <td>257.829987</td>\n",
       "      <td>258.049988</td>\n",
       "      <td>232.835022</td>\n",
       "      <td>183534800</td>\n",
       "      <td>259.829987</td>\n",
       "    </tr>\n",
       "    <tr>\n",
       "      <th>2018-03-26</th>\n",
       "      <td>262.130005</td>\n",
       "      <td>265.429993</td>\n",
       "      <td>259.410004</td>\n",
       "      <td>265.109985</td>\n",
       "      <td>239.205154</td>\n",
       "      <td>141956100</td>\n",
       "      <td>263.149994</td>\n",
       "    </tr>\n",
       "  </tbody>\n",
       "</table>\n",
       "</div>"
      ],
      "text/plain": [
       "                  Open        High         Low       Close   Adj Close  \\\n",
       "Date                                                                     \n",
       "2018-03-20  270.940002  271.670013  270.179993  270.950012  244.474472   \n",
       "2018-03-21  270.899994  273.269989  270.190002  270.429993  244.005325   \n",
       "2018-03-22  267.910004  268.869995  263.359985  263.670013  237.905838   \n",
       "2018-03-23  264.170013  264.540009  257.829987  258.049988  232.835022   \n",
       "2018-03-26  262.130005  265.429993  259.410004  265.109985  239.205154   \n",
       "\n",
       "               Volume  future_close  \n",
       "Date                                 \n",
       "2018-03-20   59757300    258.049988  \n",
       "2018-03-21   78709600    265.109985  \n",
       "2018-03-22  148785900    260.600006  \n",
       "2018-03-23  183534800    259.829987  \n",
       "2018-03-26  141956100    263.149994  "
      ]
     },
     "execution_count": 9,
     "metadata": {},
     "output_type": "execute_result"
    }
   ],
   "source": [
    "stock_data.head()"
   ]
  },
  {
   "cell_type": "code",
   "execution_count": 10,
   "metadata": {},
   "outputs": [],
   "source": [
    "# Join the two datasets together\n",
    "news_and_price = stock_data.join(data.set_index('date'), on='Date')[['headlines', 'Close','future_close']]"
   ]
  },
  {
   "cell_type": "code",
   "execution_count": 11,
   "metadata": {},
   "outputs": [
    {
     "data": {
      "text/html": [
       "<div>\n",
       "<style scoped>\n",
       "    .dataframe tbody tr th:only-of-type {\n",
       "        vertical-align: middle;\n",
       "    }\n",
       "\n",
       "    .dataframe tbody tr th {\n",
       "        vertical-align: top;\n",
       "    }\n",
       "\n",
       "    .dataframe thead th {\n",
       "        text-align: right;\n",
       "    }\n",
       "</style>\n",
       "<table border=\"1\" class=\"dataframe\">\n",
       "  <thead>\n",
       "    <tr style=\"text-align: right;\">\n",
       "      <th></th>\n",
       "      <th>headlines</th>\n",
       "      <th>Close</th>\n",
       "      <th>future_close</th>\n",
       "    </tr>\n",
       "    <tr>\n",
       "      <th>Date</th>\n",
       "      <th></th>\n",
       "      <th></th>\n",
       "      <th></th>\n",
       "    </tr>\n",
       "  </thead>\n",
       "  <tbody>\n",
       "    <tr>\n",
       "      <th>2018-03-20</th>\n",
       "      <td>Cramer Remix : Here's how Mark Zuckerberg shou...</td>\n",
       "      <td>270.950012</td>\n",
       "      <td>258.049988</td>\n",
       "    </tr>\n",
       "    <tr>\n",
       "      <th>2018-03-20</th>\n",
       "      <td>Cramer's lightning round : With so many great ...</td>\n",
       "      <td>270.950012</td>\n",
       "      <td>258.049988</td>\n",
       "    </tr>\n",
       "    <tr>\n",
       "      <th>2018-03-20</th>\n",
       "      <td>Information is 'the modern-day weapon' and we'...</td>\n",
       "      <td>270.950012</td>\n",
       "      <td>258.049988</td>\n",
       "    </tr>\n",
       "    <tr>\n",
       "      <th>2018-03-20</th>\n",
       "      <td>Cramer's charts show 'signs of life' for the s...</td>\n",
       "      <td>270.950012</td>\n",
       "      <td>258.049988</td>\n",
       "    </tr>\n",
       "    <tr>\n",
       "      <th>2018-03-20</th>\n",
       "      <td>Cramer : Trump , the Fed and the cloud can get...</td>\n",
       "      <td>270.950012</td>\n",
       "      <td>258.049988</td>\n",
       "    </tr>\n",
       "  </tbody>\n",
       "</table>\n",
       "</div>"
      ],
      "text/plain": [
       "                                                    headlines       Close  \\\n",
       "Date                                                                        \n",
       "2018-03-20  Cramer Remix : Here's how Mark Zuckerberg shou...  270.950012   \n",
       "2018-03-20  Cramer's lightning round : With so many great ...  270.950012   \n",
       "2018-03-20  Information is 'the modern-day weapon' and we'...  270.950012   \n",
       "2018-03-20  Cramer's charts show 'signs of life' for the s...  270.950012   \n",
       "2018-03-20  Cramer : Trump , the Fed and the cloud can get...  270.950012   \n",
       "\n",
       "            future_close  \n",
       "Date                      \n",
       "2018-03-20    258.049988  \n",
       "2018-03-20    258.049988  \n",
       "2018-03-20    258.049988  \n",
       "2018-03-20    258.049988  \n",
       "2018-03-20    258.049988  "
      ]
     },
     "execution_count": 11,
     "metadata": {},
     "output_type": "execute_result"
    }
   ],
   "source": [
    "news_and_price.head()"
   ]
  },
  {
   "cell_type": "code",
   "execution_count": 12,
   "metadata": {},
   "outputs": [],
   "source": [
    "# New column to represent the movement in price\n",
    "news_and_price['price_move'] = news_and_price['future_close'] - news_and_price['Close']"
   ]
  },
  {
   "cell_type": "code",
   "execution_count": 13,
   "metadata": {},
   "outputs": [
    {
     "data": {
      "text/html": [
       "<div>\n",
       "<style scoped>\n",
       "    .dataframe tbody tr th:only-of-type {\n",
       "        vertical-align: middle;\n",
       "    }\n",
       "\n",
       "    .dataframe tbody tr th {\n",
       "        vertical-align: top;\n",
       "    }\n",
       "\n",
       "    .dataframe thead th {\n",
       "        text-align: right;\n",
       "    }\n",
       "</style>\n",
       "<table border=\"1\" class=\"dataframe\">\n",
       "  <thead>\n",
       "    <tr style=\"text-align: right;\">\n",
       "      <th></th>\n",
       "      <th>headlines</th>\n",
       "      <th>Close</th>\n",
       "      <th>future_close</th>\n",
       "      <th>price_move</th>\n",
       "    </tr>\n",
       "    <tr>\n",
       "      <th>Date</th>\n",
       "      <th></th>\n",
       "      <th></th>\n",
       "      <th></th>\n",
       "      <th></th>\n",
       "    </tr>\n",
       "  </thead>\n",
       "  <tbody>\n",
       "    <tr>\n",
       "      <th>2018-03-20</th>\n",
       "      <td>Cramer Remix : Here's how Mark Zuckerberg shou...</td>\n",
       "      <td>270.950012</td>\n",
       "      <td>258.049988</td>\n",
       "      <td>-12.900024</td>\n",
       "    </tr>\n",
       "    <tr>\n",
       "      <th>2018-03-20</th>\n",
       "      <td>Cramer's lightning round : With so many great ...</td>\n",
       "      <td>270.950012</td>\n",
       "      <td>258.049988</td>\n",
       "      <td>-12.900024</td>\n",
       "    </tr>\n",
       "    <tr>\n",
       "      <th>2018-03-20</th>\n",
       "      <td>Information is 'the modern-day weapon' and we'...</td>\n",
       "      <td>270.950012</td>\n",
       "      <td>258.049988</td>\n",
       "      <td>-12.900024</td>\n",
       "    </tr>\n",
       "    <tr>\n",
       "      <th>2018-03-20</th>\n",
       "      <td>Cramer's charts show 'signs of life' for the s...</td>\n",
       "      <td>270.950012</td>\n",
       "      <td>258.049988</td>\n",
       "      <td>-12.900024</td>\n",
       "    </tr>\n",
       "    <tr>\n",
       "      <th>2018-03-20</th>\n",
       "      <td>Cramer : Trump , the Fed and the cloud can get...</td>\n",
       "      <td>270.950012</td>\n",
       "      <td>258.049988</td>\n",
       "      <td>-12.900024</td>\n",
       "    </tr>\n",
       "  </tbody>\n",
       "</table>\n",
       "</div>"
      ],
      "text/plain": [
       "                                                    headlines       Close  \\\n",
       "Date                                                                        \n",
       "2018-03-20  Cramer Remix : Here's how Mark Zuckerberg shou...  270.950012   \n",
       "2018-03-20  Cramer's lightning round : With so many great ...  270.950012   \n",
       "2018-03-20  Information is 'the modern-day weapon' and we'...  270.950012   \n",
       "2018-03-20  Cramer's charts show 'signs of life' for the s...  270.950012   \n",
       "2018-03-20  Cramer : Trump , the Fed and the cloud can get...  270.950012   \n",
       "\n",
       "            future_close  price_move  \n",
       "Date                                  \n",
       "2018-03-20    258.049988  -12.900024  \n",
       "2018-03-20    258.049988  -12.900024  \n",
       "2018-03-20    258.049988  -12.900024  \n",
       "2018-03-20    258.049988  -12.900024  \n",
       "2018-03-20    258.049988  -12.900024  "
      ]
     },
     "execution_count": 13,
     "metadata": {},
     "output_type": "execute_result"
    }
   ],
   "source": [
    "news_and_price.head()"
   ]
  },
  {
   "cell_type": "code",
   "execution_count": 14,
   "metadata": {},
   "outputs": [],
   "source": [
    "# New column to represent the percentage movement in price\n",
    "news_and_price['move_percent'] = news_and_price['price_move'] * 100 / news_and_price['Close']"
   ]
  },
  {
   "cell_type": "code",
   "execution_count": 15,
   "metadata": {},
   "outputs": [
    {
     "data": {
      "text/html": [
       "<div>\n",
       "<style scoped>\n",
       "    .dataframe tbody tr th:only-of-type {\n",
       "        vertical-align: middle;\n",
       "    }\n",
       "\n",
       "    .dataframe tbody tr th {\n",
       "        vertical-align: top;\n",
       "    }\n",
       "\n",
       "    .dataframe thead th {\n",
       "        text-align: right;\n",
       "    }\n",
       "</style>\n",
       "<table border=\"1\" class=\"dataframe\">\n",
       "  <thead>\n",
       "    <tr style=\"text-align: right;\">\n",
       "      <th></th>\n",
       "      <th>headlines</th>\n",
       "      <th>Close</th>\n",
       "      <th>future_close</th>\n",
       "      <th>price_move</th>\n",
       "      <th>move_percent</th>\n",
       "    </tr>\n",
       "    <tr>\n",
       "      <th>Date</th>\n",
       "      <th></th>\n",
       "      <th></th>\n",
       "      <th></th>\n",
       "      <th></th>\n",
       "      <th></th>\n",
       "    </tr>\n",
       "  </thead>\n",
       "  <tbody>\n",
       "    <tr>\n",
       "      <th>2018-03-20</th>\n",
       "      <td>Cramer Remix : Here's how Mark Zuckerberg shou...</td>\n",
       "      <td>270.950012</td>\n",
       "      <td>258.049988</td>\n",
       "      <td>-12.900024</td>\n",
       "      <td>-4.761035</td>\n",
       "    </tr>\n",
       "    <tr>\n",
       "      <th>2018-03-20</th>\n",
       "      <td>Cramer's lightning round : With so many great ...</td>\n",
       "      <td>270.950012</td>\n",
       "      <td>258.049988</td>\n",
       "      <td>-12.900024</td>\n",
       "      <td>-4.761035</td>\n",
       "    </tr>\n",
       "    <tr>\n",
       "      <th>2018-03-20</th>\n",
       "      <td>Information is 'the modern-day weapon' and we'...</td>\n",
       "      <td>270.950012</td>\n",
       "      <td>258.049988</td>\n",
       "      <td>-12.900024</td>\n",
       "      <td>-4.761035</td>\n",
       "    </tr>\n",
       "    <tr>\n",
       "      <th>2018-03-20</th>\n",
       "      <td>Cramer's charts show 'signs of life' for the s...</td>\n",
       "      <td>270.950012</td>\n",
       "      <td>258.049988</td>\n",
       "      <td>-12.900024</td>\n",
       "      <td>-4.761035</td>\n",
       "    </tr>\n",
       "    <tr>\n",
       "      <th>2018-03-20</th>\n",
       "      <td>Cramer : Trump , the Fed and the cloud can get...</td>\n",
       "      <td>270.950012</td>\n",
       "      <td>258.049988</td>\n",
       "      <td>-12.900024</td>\n",
       "      <td>-4.761035</td>\n",
       "    </tr>\n",
       "  </tbody>\n",
       "</table>\n",
       "</div>"
      ],
      "text/plain": [
       "                                                    headlines       Close  \\\n",
       "Date                                                                        \n",
       "2018-03-20  Cramer Remix : Here's how Mark Zuckerberg shou...  270.950012   \n",
       "2018-03-20  Cramer's lightning round : With so many great ...  270.950012   \n",
       "2018-03-20  Information is 'the modern-day weapon' and we'...  270.950012   \n",
       "2018-03-20  Cramer's charts show 'signs of life' for the s...  270.950012   \n",
       "2018-03-20  Cramer : Trump , the Fed and the cloud can get...  270.950012   \n",
       "\n",
       "            future_close  price_move  move_percent  \n",
       "Date                                                \n",
       "2018-03-20    258.049988  -12.900024     -4.761035  \n",
       "2018-03-20    258.049988  -12.900024     -4.761035  \n",
       "2018-03-20    258.049988  -12.900024     -4.761035  \n",
       "2018-03-20    258.049988  -12.900024     -4.761035  \n",
       "2018-03-20    258.049988  -12.900024     -4.761035  "
      ]
     },
     "execution_count": 15,
     "metadata": {},
     "output_type": "execute_result"
    }
   ],
   "source": [
    "news_and_price.head()"
   ]
  },
  {
   "cell_type": "markdown",
   "metadata": {},
   "source": [
    "### Visualize the percentage distribution"
   ]
  },
  {
   "cell_type": "code",
   "execution_count": 16,
   "metadata": {},
   "outputs": [
    {
     "data": {
      "text/plain": [
       "<Figure size 1000x600 with 0 Axes>"
      ]
     },
     "metadata": {},
     "output_type": "display_data"
    },
    {
     "data": {
      "image/png": "[encoded data removed]",
      "text/plain": [
       "<Figure size 500x500 with 1 Axes>"
      ]
     },
     "metadata": {},
     "output_type": "display_data"
    }
   ],
   "source": [
    "import seaborn as sns\n",
    "import matplotlib.pyplot as plt\n",
    "\n",
    "\n",
    "\n",
    "# Plot the distribution\n",
    "plt.figure(figsize=(10, 6))\n",
    "\n",
    "# Using histplot to show histogram and KDE\n",
    "sns.displot(news_and_price['move_percent'])\n",
    "\n",
    "# Or use kdeplot for only KDE\n",
    "# sns.kdeplot(df['percent_values'], shade=True)\n",
    "\n",
    "# Plot customization\n",
    "plt.title('Distribution of Percent Values')\n",
    "plt.xlabel('Percent Values')\n",
    "plt.ylabel('Density')\n",
    "plt.show()"
   ]
  },
  {
   "cell_type": "code",
   "execution_count": 17,
   "metadata": {},
   "outputs": [],
   "source": [
    "perc_33 =  news_and_price['move_percent'].quantile(0.33)\n",
    "median = news_and_price['move_percent'].quantile(0.5)\n",
    "perc_66 =  news_and_price['move_percent'].quantile(0.66)"
   ]
  },
  {
   "cell_type": "code",
   "execution_count": 18,
   "metadata": {},
   "outputs": [
    {
     "name": "stdout",
     "output_type": "stream",
     "text": [
      "The percentage movements are centered around 0.3519 \n",
      " with a third of the data below -0.2759\n",
      " and a third above 0.8501\n"
     ]
    }
   ],
   "source": [
    "print(f'The percentage movements are centered around {round(median, 4)} \\n with a third of the data below {round(perc_33, 4)}\\n and a third above {round(perc_66, 4)}')"
   ]
  },
  {
   "cell_type": "markdown",
   "metadata": {},
   "source": [
    "### Create labels"
   ]
  },
  {
   "cell_type": "code",
   "execution_count": 19,
   "metadata": {},
   "outputs": [],
   "source": [
    "import numpy as np\n",
    "\n",
    "conditions = [\n",
    "    (news_and_price['move_percent'] < perc_33),\n",
    "    (news_and_price['move_percent'] < perc_66) & (news_and_price['move_percent'] > perc_33),\n",
    "    (news_and_price['move_percent'] > perc_66)\n",
    "]\n",
    "\n",
    "values = [0,1,2]\n",
    "\n",
    "news_and_price['label'] = np.select(conditions, values)\n"
   ]
  },
  {
   "cell_type": "code",
   "execution_count": 20,
   "metadata": {},
   "outputs": [],
   "source": [
    "news_and_price = news_and_price.dropna()"
   ]
  },
  {
   "cell_type": "code",
   "execution_count": 21,
   "metadata": {},
   "outputs": [
    {
     "data": {
      "text/html": [
       "<div>\n",
       "<style scoped>\n",
       "    .dataframe tbody tr th:only-of-type {\n",
       "        vertical-align: middle;\n",
       "    }\n",
       "\n",
       "    .dataframe tbody tr th {\n",
       "        vertical-align: top;\n",
       "    }\n",
       "\n",
       "    .dataframe thead th {\n",
       "        text-align: right;\n",
       "    }\n",
       "</style>\n",
       "<table border=\"1\" class=\"dataframe\">\n",
       "  <thead>\n",
       "    <tr style=\"text-align: right;\">\n",
       "      <th></th>\n",
       "      <th>headlines</th>\n",
       "      <th>Close</th>\n",
       "      <th>future_close</th>\n",
       "      <th>price_move</th>\n",
       "      <th>move_percent</th>\n",
       "      <th>label</th>\n",
       "    </tr>\n",
       "    <tr>\n",
       "      <th>Date</th>\n",
       "      <th></th>\n",
       "      <th></th>\n",
       "      <th></th>\n",
       "      <th></th>\n",
       "      <th></th>\n",
       "      <th></th>\n",
       "    </tr>\n",
       "  </thead>\n",
       "  <tbody>\n",
       "    <tr>\n",
       "      <th>2018-03-20</th>\n",
       "      <td>Cramer Remix : Here's how Mark Zuckerberg shou...</td>\n",
       "      <td>270.950012</td>\n",
       "      <td>258.049988</td>\n",
       "      <td>-12.900024</td>\n",
       "      <td>-4.761035</td>\n",
       "      <td>0</td>\n",
       "    </tr>\n",
       "    <tr>\n",
       "      <th>2018-03-20</th>\n",
       "      <td>Cramer's lightning round : With so many great ...</td>\n",
       "      <td>270.950012</td>\n",
       "      <td>258.049988</td>\n",
       "      <td>-12.900024</td>\n",
       "      <td>-4.761035</td>\n",
       "      <td>0</td>\n",
       "    </tr>\n",
       "    <tr>\n",
       "      <th>2018-03-20</th>\n",
       "      <td>Information is 'the modern-day weapon' and we'...</td>\n",
       "      <td>270.950012</td>\n",
       "      <td>258.049988</td>\n",
       "      <td>-12.900024</td>\n",
       "      <td>-4.761035</td>\n",
       "      <td>0</td>\n",
       "    </tr>\n",
       "    <tr>\n",
       "      <th>2018-03-20</th>\n",
       "      <td>Cramer's charts show 'signs of life' for the s...</td>\n",
       "      <td>270.950012</td>\n",
       "      <td>258.049988</td>\n",
       "      <td>-12.900024</td>\n",
       "      <td>-4.761035</td>\n",
       "      <td>0</td>\n",
       "    </tr>\n",
       "    <tr>\n",
       "      <th>2018-03-20</th>\n",
       "      <td>Cramer : Trump , the Fed and the cloud can get...</td>\n",
       "      <td>270.950012</td>\n",
       "      <td>258.049988</td>\n",
       "      <td>-12.900024</td>\n",
       "      <td>-4.761035</td>\n",
       "      <td>0</td>\n",
       "    </tr>\n",
       "  </tbody>\n",
       "</table>\n",
       "</div>"
      ],
      "text/plain": [
       "                                                    headlines       Close  \\\n",
       "Date                                                                        \n",
       "2018-03-20  Cramer Remix : Here's how Mark Zuckerberg shou...  270.950012   \n",
       "2018-03-20  Cramer's lightning round : With so many great ...  270.950012   \n",
       "2018-03-20  Information is 'the modern-day weapon' and we'...  270.950012   \n",
       "2018-03-20  Cramer's charts show 'signs of life' for the s...  270.950012   \n",
       "2018-03-20  Cramer : Trump , the Fed and the cloud can get...  270.950012   \n",
       "\n",
       "            future_close  price_move  move_percent  label  \n",
       "Date                                                       \n",
       "2018-03-20    258.049988  -12.900024     -4.761035      0  \n",
       "2018-03-20    258.049988  -12.900024     -4.761035      0  \n",
       "2018-03-20    258.049988  -12.900024     -4.761035      0  \n",
       "2018-03-20    258.049988  -12.900024     -4.761035      0  \n",
       "2018-03-20    258.049988  -12.900024     -4.761035      0  "
      ]
     },
     "execution_count": 21,
     "metadata": {},
     "output_type": "execute_result"
    }
   ],
   "source": [
    "news_and_price.head()"
   ]
  },
  {
   "cell_type": "code",
   "execution_count": 22,
   "metadata": {},
   "outputs": [
    {
     "data": {
      "text/plain": [
       "label\n",
       "2    15390\n",
       "0    15082\n",
       "1    14991\n",
       "Name: count, dtype: int64"
      ]
     },
     "execution_count": 22,
     "metadata": {},
     "output_type": "execute_result"
    }
   ],
   "source": [
    "news_and_price['label'].value_counts()"
   ]
  },
  {
   "cell_type": "code",
   "execution_count": 23,
   "metadata": {},
   "outputs": [],
   "source": [
    "news_and_price.to_csv('../data/jonpg_prepped_data.csv')"
   ]
  },
  {
   "cell_type": "code",
   "execution_count": null,
   "metadata": {},
   "outputs": [],
   "source": []
  }
 ],
 "metadata": {
  "kernelspec": {
   "display_name": "Python 3",
   "language": "python",
   "name": "python3"
  },
  "language_info": {
   "codemirror_mode": {
    "name": "ipython",
    "version": 3
   },
   "file_extension": ".py",
   "mimetype": "text/x-python",
   "name": "python",
   "nbconvert_exporter": "python",
   "pygments_lexer": "ipython3",
   "version": "3.11.9"
  }
 },
 "nbformat": 4,
 "nbformat_minor": 2
}
